{
  "nbformat": 4,
  "nbformat_minor": 0,
  "metadata": {
    "colab": {
      "provenance": [],
      "authorship_tag": "ABX9TyNB1Ikda3IPZ6rLkM8iI82j",
      "include_colab_link": true
    },
    "kernelspec": {
      "name": "python3",
      "display_name": "Python 3"
    },
    "language_info": {
      "name": "python"
    }
  },
  "cells": [
    {
      "cell_type": "markdown",
      "metadata": {
        "id": "view-in-github",
        "colab_type": "text"
      },
      "source": [
        "<a href=\"https://colab.research.google.com/github/rrrrrrrrrrffrg/pyton/blob/main/Untitled3.ipynb\" target=\"_parent\"><img src=\"https://colab.research.google.com/assets/colab-badge.svg\" alt=\"Open In Colab\"/></a>"
      ]
    },
    {
      "cell_type": "markdown",
      "source": [
        "Подсчет частоты слов: Напишите функцию, которая принимает строку и возвращает словарь, где ключи — это слова, а значения — их частота в строке."
      ],
      "metadata": {
        "id": "QbJal2NIGejx"
      }
    },
    {
      "cell_type": "code",
      "source": [
        "def word_frequency(text):\n",
        "    words = text.lower().split()\n",
        "    frequency = {}\n",
        "    for word in words:\n",
        "        if word in frequency:\n",
        "            frequency[word] += 1\n",
        "        else:\n",
        "            frequency[word] = 1\n",
        "\n",
        "    return frequency\n",
        "\n",
        "# Пример использования\n",
        "input_text = \"Hello world! This is a test. Hello again, world!\"\n",
        "result = word_frequency(input_text)\n",
        "print(result)\n"
      ],
      "metadata": {
        "colab": {
          "base_uri": "https://localhost:8080/"
        },
        "id": "BkYRpg2DGgV3",
        "outputId": "1b46f2c1-d0f3-4c86-88c4-8f3719fca4e0"
      },
      "execution_count": 1,
      "outputs": [
        {
          "output_type": "stream",
          "name": "stdout",
          "text": [
            "{'hello': 2, 'world!': 2, 'this': 1, 'is': 1, 'a': 1, 'test.': 1, 'again,': 1}\n"
          ]
        }
      ]
    },
    {
      "cell_type": "markdown",
      "source": [
        "Инвертирование словаря: Напишите функцию, которая принимает словарь и возвращает новый словарь, где ключи и значения поменяны местами. Если значения не уникальны, объедините ключи в список."
      ],
      "metadata": {
        "id": "sf952KzSGvyb"
      }
    },
    {
      "cell_type": "code",
      "source": [
        "def invert_dictionary(original_dict):\n",
        "    inverted_dict = {}\n",
        "\n",
        "    for key, value in original_dict.items():\n",
        "        if value in inverted_dict:\n",
        "            if isinstance(inverted_dict[value], list):\n",
        "                inverted_dict[value].append(key)\n",
        "            else:\n",
        "                inverted_dict[value] = [inverted_dict[value], key]\n",
        "        else:\n",
        "            inverted_dict[value] = key\n",
        "\n",
        "    return inverted_dict\n",
        "\n",
        "# Пример использования\n",
        "original_dict = {\n",
        "    'a': 1,\n",
        "    'b': 2,\n",
        "    'c': 1,\n",
        "    'd': 3\n",
        "}\n",
        "\n",
        "inverted = invert_dictionary(original_dict)\n",
        "print(inverted)\n"
      ],
      "metadata": {
        "colab": {
          "base_uri": "https://localhost:8080/"
        },
        "id": "e4Y1qnslGwW1",
        "outputId": "e863af00-ed08-41ab-8cdd-f94bb42ec5b8"
      },
      "execution_count": 2,
      "outputs": [
        {
          "output_type": "stream",
          "name": "stdout",
          "text": [
            "{1: ['a', 'c'], 2: 'b', 3: 'd'}\n"
          ]
        }
      ]
    },
    {
      "cell_type": "markdown",
      "source": [
        "Слияние словарей: Напишите функцию, которая принимает два словаря и возвращает новый словарь, содержащий все ключи из обоих словарей. Если ключи совпадают, значения должны быть суммированы."
      ],
      "metadata": {
        "id": "M4XLNHqeIKP2"
      }
    },
    {
      "cell_type": "code",
      "source": [
        "def merge_dicts(dict1, dict2):\n",
        "    merged_dict = dict1.copy()\n",
        "\n",
        "    for key, value in dict2.items():\n",
        "        if key in merged_dict:\n",
        "            merged_dict[key] += value\n",
        "        else:\n",
        "            merged_dict[key] = value\n",
        "\n",
        "    return merged_dict\n",
        "\n",
        "# Пример использования\n",
        "dict1 = {'a': 1, 'b': 2, 'c': 3}\n",
        "dict2 = {'b': 3, 'c': 4, 'd': 5}\n",
        "\n",
        "result = merge_dicts(dict1, dict2)\n",
        "print(result)\n"
      ],
      "metadata": {
        "colab": {
          "base_uri": "https://localhost:8080/"
        },
        "id": "HCe2HIEFILE5",
        "outputId": "7f6fdcfe-b460-4485-9140-ad5ac6f66bc8"
      },
      "execution_count": 3,
      "outputs": [
        {
          "output_type": "stream",
          "name": "stdout",
          "text": [
            "{'a': 1, 'b': 5, 'c': 7, 'd': 5}\n"
          ]
        }
      ]
    },
    {
      "cell_type": "markdown",
      "source": [
        "Фильтрация по значению: Напишите функцию, которая принимает словарь и пороговое значение, и возвращает новый словарь, содержащий только те пары ключ-значение, где значение больше порогового."
      ],
      "metadata": {
        "id": "uMomGN_sIjM5"
      }
    },
    {
      "cell_type": "code",
      "source": [
        "def filter_by_value(input_dict, threshold):\n",
        "    filtered_dict = {key: value for key, value in input_dict.items() if value > threshold}\n",
        "    return filtered_dict\n",
        "\n",
        "# Пример использования\n",
        "if __name__ == \"__main__\":\n",
        "    sample_dict = {\n",
        "        'a': 5,\n",
        "        'b': 3,\n",
        "        'c': 8,\n",
        "        'd': 1\n",
        "    }\n",
        "    threshold_value = 4\n",
        "    result = filter_by_value(sample_dict, threshold_value)\n",
        "    print(\"Отфильтрованный словарь:\", result)\n"
      ],
      "metadata": {
        "colab": {
          "base_uri": "https://localhost:8080/"
        },
        "id": "tVd61pqEI_bo",
        "outputId": "0298c5c3-7b03-4420-d1d1-2b0524659bbd"
      },
      "execution_count": 5,
      "outputs": [
        {
          "output_type": "stream",
          "name": "stdout",
          "text": [
            "Отфильтрованный словарь: {'a': 5, 'c': 8}\n"
          ]
        }
      ]
    },
    {
      "cell_type": "markdown",
      "source": [
        "Максимальное значение: Напишите функцию, которая находит ключ с максимальным значением в словаре."
      ],
      "metadata": {
        "id": "uJ6QIsCuJDoY"
      }
    },
    {
      "cell_type": "code",
      "source": [
        "def max_key(dictionary):\n",
        "    if not dictionary:\n",
        "        return None\n",
        "    max_key = max(dictionary, key=dictionary.get)\n",
        "    return max_key\n",
        "\n",
        "# Пример использования\n",
        "sample_dict = {'a': 10, 'b': 20, 'c': 15}\n",
        "result = max_key(sample_dict)\n",
        "print(f'Ключ с максимальным значением: {result}')\n"
      ],
      "metadata": {
        "colab": {
          "base_uri": "https://localhost:8080/"
        },
        "id": "8E9sgWiWJHLa",
        "outputId": "130d7d1d-d34b-412f-a346-2e2264b1cca0"
      },
      "execution_count": 6,
      "outputs": [
        {
          "output_type": "stream",
          "name": "stdout",
          "text": [
            "Ключ с максимальным значением: b\n"
          ]
        }
      ]
    },
    {
      "cell_type": "markdown",
      "source": [
        "Минимальное значение: Напишите функцию, которая находит ключ с минимальным значением в словаре."
      ],
      "metadata": {
        "id": "PvL7XC1gJly-"
      }
    },
    {
      "cell_type": "code",
      "source": [
        "def find_key_with_min_value(input_dict):\n",
        "    if not input_dict:\n",
        "        return None\n",
        "\n",
        "    min_key = min(input_dict, key=input_dict.get)\n",
        "    return min_key\n",
        "\n",
        "# Пример использования\n",
        "sample_dict = {\n",
        "    'a': 10,\n",
        "    'b': 4,\n",
        "    'c': 7,\n",
        "    'd': 2\n",
        "}\n",
        "\n",
        "min_key = find_key_with_min_value(sample_dict)\n",
        "print(f'Ключ с минимальным значением: {min_key} (значение: {sample_dict[min_key]})')\n"
      ],
      "metadata": {
        "colab": {
          "base_uri": "https://localhost:8080/"
        },
        "id": "zjGiky-dJomW",
        "outputId": "dcfc04ed-c13a-4563-a4c4-e48a68908d3a"
      },
      "execution_count": 7,
      "outputs": [
        {
          "output_type": "stream",
          "name": "stdout",
          "text": [
            "Ключ с минимальным значением: d (значение: 2)\n"
          ]
        }
      ]
    },
    {
      "cell_type": "markdown",
      "source": [
        "Удаление ключей: Напишите функцию, которая принимает словарь и список ключей, и удаляет из словаря все указанные ключи."
      ],
      "metadata": {
        "id": "4IEtcO6XKi9I"
      }
    },
    {
      "cell_type": "code",
      "source": [
        "def remove_keys(dictionary, keys_to_remove):\n",
        "\n",
        "    return {key: value for key, value in dictionary.items() if key not in keys_to_remove}\n",
        "\n",
        "# Пример использования\n",
        "my_dict = {'a': 1, 'b': 2, 'c': 3, 'd': 4}\n",
        "keys_to_remove = ['b', 'd']\n",
        "\n",
        "new_dict = remove_keys(my_dict, keys_to_remove)\n",
        "print(new_dict)"
      ],
      "metadata": {
        "colab": {
          "base_uri": "https://localhost:8080/"
        },
        "id": "Ch30VGN9Kjb3",
        "outputId": "9c27ffec-999d-4d7c-9566-41137bd9e5c8"
      },
      "execution_count": 8,
      "outputs": [
        {
          "output_type": "stream",
          "name": "stdout",
          "text": [
            "{'a': 1, 'c': 3}\n"
          ]
        }
      ]
    },
    {
      "cell_type": "markdown",
      "source": [
        "Группировка по длине ключей: Напишите функцию, которая группирует ключи словаря по их длине и возвращает словарь, где ключи — это длины, а значения — списки ключей соответствующей длины."
      ],
      "metadata": {
        "id": "tLFlE4YyKvHk"
      }
    },
    {
      "cell_type": "code",
      "source": [
        "def group_keys_by_length(input_dict):\n",
        "    grouped = {}\n",
        "    for key in input_dict.keys():\n",
        "        key_length = len(key)\n",
        "        if key_length not in grouped:\n",
        "            grouped[key_length] = []\n",
        "        grouped[key_length].append(key)\n",
        "    return grouped\n",
        "\n",
        "# Пример использования\n",
        "example_dict = {\n",
        "    'apple': 1,\n",
        "    'banana': 2,\n",
        "    'kiwi': 3,\n",
        "    'pear': 4,\n",
        "    'grape': 5,\n",
        "    'fig': 6\n",
        "}\n",
        "\n",
        "result = group_keys_by_length(example_dict)\n",
        "print(result)\n"
      ],
      "metadata": {
        "colab": {
          "base_uri": "https://localhost:8080/"
        },
        "id": "ACsMrDKpKv3v",
        "outputId": "15193d87-4db4-4902-abf7-1235b0974461"
      },
      "execution_count": 9,
      "outputs": [
        {
          "output_type": "stream",
          "name": "stdout",
          "text": [
            "{5: ['apple', 'grape'], 6: ['banana'], 4: ['kiwi', 'pear'], 3: ['fig']}\n"
          ]
        }
      ]
    },
    {
      "cell_type": "markdown",
      "source": [
        "Поиск ключей по значению: Напишите функцию, которая принимает словарь и значение, и возвращает список всех ключей, связанных с этим значением."
      ],
      "metadata": {
        "id": "LeV2FTDWLL1y"
      }
    },
    {
      "cell_type": "code",
      "source": [
        "def find_keys_by_value(input_dict, target_value):\n",
        "    keys = [key for key, value in input_dict.items() if value == target_value]\n",
        "    return keys\n",
        "\n",
        "# Пример использования\n",
        "example_dict = {\n",
        "    'a': 1,\n",
        "    'b': 2,\n",
        "    'c': 1,\n",
        "    'd': 3\n",
        "}\n",
        "\n",
        "value_to_find = 1\n",
        "result_keys = find_keys_by_value(example_dict, value_to_find)\n",
        "print(f\"Ключи, соответствующие значению {value_to_find}: {result_keys}\")\n"
      ],
      "metadata": {
        "colab": {
          "base_uri": "https://localhost:8080/"
        },
        "id": "zHNVnx75LMzi",
        "outputId": "6e0c187e-b073-4ea7-f7f2-5e45489e2f44"
      },
      "execution_count": 10,
      "outputs": [
        {
          "output_type": "stream",
          "name": "stdout",
          "text": [
            "Ключи, соответствующие значению 1: ['a', 'c']\n"
          ]
        }
      ]
    },
    {
      "cell_type": "markdown",
      "source": [
        "Объединение значений: Напишите функцию, которая принимает два словаря и объединяет их значения в списки для каждого ключа."
      ],
      "metadata": {
        "id": "Q49amGHTLuFY"
      }
    },
    {
      "cell_type": "code",
      "source": [
        "def merge_dict_values(dict1, dict2):\n",
        "    merged_dict = {}\n",
        "    all_keys = set(dict1.keys()).union(set(dict2.keys()))\n",
        "\n",
        "    for key in all_keys:\n",
        "        values = []\n",
        "        if key in dict1:\n",
        "            values.append(dict1[key])\n",
        "        if key in dict2:\n",
        "            values.append(dict2[key])\n",
        "        merged_dict[key] = values\n",
        "\n",
        "    return merged_dict\n",
        "\n",
        "# Пример использования\n",
        "dict1 = {'a': 1, 'b': 2, 'c': 3}\n",
        "dict2 = {'b': 3, 'c': 4, 'd': 5}\n",
        "\n",
        "result = merge_dict_values(dict1, dict2)\n",
        "print(result)\n"
      ],
      "metadata": {
        "colab": {
          "base_uri": "https://localhost:8080/"
        },
        "id": "ROrx6EM9LyA8",
        "outputId": "4bfc8f01-2de3-4cad-a50a-3a1d3c9b77c8"
      },
      "execution_count": 11,
      "outputs": [
        {
          "output_type": "stream",
          "name": "stdout",
          "text": [
            "{'d': [5], 'a': [1], 'c': [3, 4], 'b': [2, 3]}\n"
          ]
        }
      ]
    },
    {
      "cell_type": "markdown",
      "source": [
        "Создание множества из списка: Напишите функцию, которая принимает список и возвращает множество, содержащее уникальные элементы списка."
      ],
      "metadata": {
        "id": "VvkQDZ21MUH8"
      }
    },
    {
      "cell_type": "code",
      "source": [
        "def create_set_from_list(input_list):\n",
        "    unique_set = set(input_list)\n",
        "    return unique_set\n",
        "\n",
        "# Пример использования\n",
        "example_list = [1, 2, 2, 3, 4, 4, 5]\n",
        "result_set = create_set_from_list(example_list)\n",
        "print(result_set)\n"
      ],
      "metadata": {
        "colab": {
          "base_uri": "https://localhost:8080/"
        },
        "id": "oKsTtpCAMbvZ",
        "outputId": "f62ddab6-c800-4d5f-aaf4-00073cec7bfc"
      },
      "execution_count": 12,
      "outputs": [
        {
          "output_type": "stream",
          "name": "stdout",
          "text": [
            "{1, 2, 3, 4, 5}\n"
          ]
        }
      ]
    },
    {
      "cell_type": "markdown",
      "source": [
        "Удаление дубликатов: Напишите функцию, которая удаляет дубликаты из списка с помощью множества и возвращает новый список."
      ],
      "metadata": {
        "id": "YWOmJdv9MukF"
      }
    },
    {
      "cell_type": "code",
      "source": [
        "def remove_duplicates(input_list):\n",
        "    unique_elements = set(input_list)\n",
        "    return list(unique_elements)\n",
        "\n",
        "# Пример использования\n",
        "my_list = [1, 2, 2, 3, 4, 4, 5]\n",
        "result = remove_duplicates(my_list)\n",
        "print(result)\n"
      ],
      "metadata": {
        "colab": {
          "base_uri": "https://localhost:8080/"
        },
        "id": "6YGQQxRKOHGm",
        "outputId": "056c83e4-4c99-46ff-bfb9-a68c76bb53c6"
      },
      "execution_count": 13,
      "outputs": [
        {
          "output_type": "stream",
          "name": "stdout",
          "text": [
            "[1, 2, 3, 4, 5]\n"
          ]
        }
      ]
    },
    {
      "cell_type": "markdown",
      "source": [
        "Пересечение множеств: Напишите функцию, которая принимает два множества и возвращает их пересечение."
      ],
      "metadata": {
        "id": "JEBSJZFlM-Vt"
      }
    },
    {
      "cell_type": "code",
      "source": [
        "def intersection(set1, set2):\n",
        "    return set1 & set2\n",
        "\n",
        "# Пример использования\n",
        "set_a = {1, 2, 3, 4}\n",
        "set_b = {3, 4, 5, 6}\n",
        "result = intersection(set_a, set_b)\n",
        "print(result)\n"
      ],
      "metadata": {
        "colab": {
          "base_uri": "https://localhost:8080/"
        },
        "id": "Q-E-LvImOPF_",
        "outputId": "fa51975f-ffd4-45b3-cad2-c854966d4df1"
      },
      "execution_count": 14,
      "outputs": [
        {
          "output_type": "stream",
          "name": "stdout",
          "text": [
            "{3, 4}\n"
          ]
        }
      ]
    },
    {
      "cell_type": "markdown",
      "source": [
        "Объединение множеств: Напишите функцию, которая принимает два множества и возвращает их объединение."
      ],
      "metadata": {
        "id": "8sI3QAnSNA_P"
      }
    },
    {
      "cell_type": "code",
      "source": [
        "def union(set1, set2):\n",
        "    return set1 | set2\n",
        "\n",
        "# Пример использования\n",
        "set_a = {1, 2, 3}\n",
        "set_b = {3, 4, 5}\n",
        "result = union(set_a, set_b)\n",
        "print(result)\n"
      ],
      "metadata": {
        "colab": {
          "base_uri": "https://localhost:8080/"
        },
        "id": "l7-ZF2asOXLt",
        "outputId": "c5f6f526-340e-47cf-fdd0-8d1d01876bce"
      },
      "execution_count": 15,
      "outputs": [
        {
          "output_type": "stream",
          "name": "stdout",
          "text": [
            "{1, 2, 3, 4, 5}\n"
          ]
        }
      ]
    },
    {
      "cell_type": "markdown",
      "source": [
        "Разность множеств: Напишите функцию, которая принимает два множества и возвращает разность первого множества и второго."
      ],
      "metadata": {
        "id": "rEY6vhqIOaYo"
      }
    },
    {
      "cell_type": "code",
      "source": [
        "def difference_sets(set1, set2):\n",
        "    return set1 - set2\n",
        "\n",
        "# Пример использования\n",
        "set_a = {1, 2, 3, 4}\n",
        "set_b = {3, 4, 5, 6}\n",
        "result = difference_sets(set_a, set_b)\n",
        "print(\"Разность множеств:\", result)\n"
      ],
      "metadata": {
        "colab": {
          "base_uri": "https://localhost:8080/"
        },
        "id": "DCEi75HMPQsP",
        "outputId": "c9477a81-022a-4a12-cbe6-b4c8af7f083a"
      },
      "execution_count": 16,
      "outputs": [
        {
          "output_type": "stream",
          "name": "stdout",
          "text": [
            "Разность множеств: {1, 2}\n"
          ]
        }
      ]
    },
    {
      "cell_type": "markdown",
      "source": [
        "Симметрическая разность: Напишите функцию, которая принимает два множества и возвращает их симметрическую разность."
      ],
      "metadata": {
        "id": "UCsobxKXOdpO"
      }
    },
    {
      "cell_type": "code",
      "source": [
        "def symmetric_difference_sets(set1, set2):\n",
        "    return set1.symmetric_difference(set2)\n",
        "\n",
        "# Пример использования\n",
        "set_a = {1, 2, 3, 4}\n",
        "set_b = {3, 4, 5, 6}\n",
        "result = symmetric_difference_sets(set_a, set_b)\n",
        "print(\"Симметрическая разность:\", result)\n"
      ],
      "metadata": {
        "id": "6Wv5rMflPSxI"
      },
      "execution_count": null,
      "outputs": []
    },
    {
      "cell_type": "markdown",
      "source": [
        "Проверка подмножества: Напишите функцию, которая проверяет, является ли одно множество подмножеством другого."
      ],
      "metadata": {
        "id": "_HBaxc9pOgcY"
      }
    },
    {
      "cell_type": "code",
      "source": [
        "def is_subset(set1, set2):\n",
        "    return set1.issubset(set2)\n",
        "\n",
        "# Пример использования\n",
        "set_a = {1, 2}\n",
        "set_b = {1, 2, 3, 4}\n",
        "result = is_subset(set_a, set_b)\n",
        "print(\"Является ли первое множество подмножеством второго?\", result)\n"
      ],
      "metadata": {
        "colab": {
          "base_uri": "https://localhost:8080/"
        },
        "id": "xbMLNkovPXPT",
        "outputId": "a56e67dc-de40-42fd-ffd7-361c56e441af"
      },
      "execution_count": 17,
      "outputs": [
        {
          "output_type": "stream",
          "name": "stdout",
          "text": [
            "Является ли первое множество подмножеством второго? True\n"
          ]
        }
      ]
    },
    {
      "cell_type": "markdown",
      "source": [
        "Проверка надмножества: Напишите функцию, которая проверяет, является ли одно множество надмножеством другого."
      ],
      "metadata": {
        "id": "EgRf0vfKPePw"
      }
    },
    {
      "cell_type": "code",
      "source": [
        "def is_superset(set1, set2):\n",
        "    return set1.issuperset(set2)\n",
        "\n",
        "# Пример использования\n",
        "set_a = {1, 2, 3, 4, 5}\n",
        "set_b = {2, 3}\n",
        "print(is_superset(set_a, set_b))\n"
      ],
      "metadata": {
        "colab": {
          "base_uri": "https://localhost:8080/"
        },
        "id": "Dm2QU2UQQlZM",
        "outputId": "16905e6b-5fa0-4c9c-bc51-2132f861d04e"
      },
      "execution_count": 18,
      "outputs": [
        {
          "output_type": "stream",
          "name": "stdout",
          "text": [
            "True\n"
          ]
        }
      ]
    },
    {
      "cell_type": "markdown",
      "source": [
        "Добавление элементов: Напишите функцию, которая добавляет все элементы из списка в множество."
      ],
      "metadata": {
        "id": "4wcbZ5SQPeqz"
      }
    },
    {
      "cell_type": "code",
      "source": [
        "def add_elements_to_set(original_set, elements):\n",
        "    original_set.update(elements)\n",
        "    return original_set\n",
        "\n",
        "# Пример использования\n",
        "my_set = {1, 2, 3}\n",
        "elements_to_add = [4, 5, 6]\n",
        "print(add_elements_to_set(my_set, elements_to_add))\n"
      ],
      "metadata": {
        "colab": {
          "base_uri": "https://localhost:8080/"
        },
        "id": "jNjYBZk-Qo0P",
        "outputId": "ba838108-40be-41db-f186-6da424947582"
      },
      "execution_count": 19,
      "outputs": [
        {
          "output_type": "stream",
          "name": "stdout",
          "text": [
            "{1, 2, 3, 4, 5, 6}\n"
          ]
        }
      ]
    },
    {
      "cell_type": "markdown",
      "source": [
        "Удаление элементов: Напишите функцию, которая удаляет из множества все элементы, присутствующие в списке."
      ],
      "metadata": {
        "id": "apRIdqTdPhnF"
      }
    },
    {
      "cell_type": "code",
      "source": [
        "def remove_elements_from_set(original_set, elements):\n",
        "    original_set.difference_update(elements)\n",
        "    return original_set\n",
        "\n",
        "# Пример использования\n",
        "my_set = {1, 2, 3, 4, 5}\n",
        "elements_to_remove = [2, 4]\n",
        "print(remove_elements_from_set(my_set, elements_to_remove))\n"
      ],
      "metadata": {
        "colab": {
          "base_uri": "https://localhost:8080/"
        },
        "id": "-ZdDpUZUQuMe",
        "outputId": "97f57149-f705-4eaa-ba16-b3a1208f57cc"
      },
      "execution_count": 20,
      "outputs": [
        {
          "output_type": "stream",
          "name": "stdout",
          "text": [
            "{1, 3, 5}\n"
          ]
        }
      ]
    },
    {
      "cell_type": "markdown",
      "source": [
        "Создание кортежа из списка: Напишите функцию, которая принимает список и возвращает кортеж, содержащий те же элементы."
      ],
      "metadata": {
        "id": "go9DlwI-Q1Lo"
      }
    },
    {
      "cell_type": "code",
      "source": [
        "def list_to_tuple(lst):\n",
        "    return tuple(lst)\n",
        "\n",
        "# Пример использования\n",
        "my_list = [1, 2, 3, 4, 5]\n",
        "result_tuple = list_to_tuple(my_list)\n",
        "print(\"Кортеж из списка:\", result_tuple)\n"
      ],
      "metadata": {
        "colab": {
          "base_uri": "https://localhost:8080/"
        },
        "id": "_jRhI4A4Rs2S",
        "outputId": "128e368a-0280-4e80-aa41-7329ad63eb5b"
      },
      "execution_count": 21,
      "outputs": [
        {
          "output_type": "stream",
          "name": "stdout",
          "text": [
            "Кортеж из списка: (1, 2, 3, 4, 5)\n"
          ]
        }
      ]
    },
    {
      "cell_type": "markdown",
      "source": [
        "Объединение кортежей: Напишите функцию, которая принимает два кортежа и возвращает их объединение."
      ],
      "metadata": {
        "id": "i-U8m8AUQ1oz"
      }
    },
    {
      "cell_type": "code",
      "source": [
        "def merge_tuples(tuple1, tuple2):\n",
        "    return tuple1 + tuple2\n",
        "\n",
        "# Пример использования\n",
        "tuple_a = (1, 2, 3)\n",
        "tuple_b = (4, 5, 6)\n",
        "merged_tuple = merge_tuples(tuple_a, tuple_b)\n",
        "print(\"Объединенный кортеж:\", merged_tuple)\n"
      ],
      "metadata": {
        "colab": {
          "base_uri": "https://localhost:8080/"
        },
        "id": "-n9yE8OQRvoZ",
        "outputId": "48c368d1-7b3e-4bcc-fc35-85274f940de8"
      },
      "execution_count": 22,
      "outputs": [
        {
          "output_type": "stream",
          "name": "stdout",
          "text": [
            "Объединенный кортеж: (1, 2, 3, 4, 5, 6)\n"
          ]
        }
      ]
    },
    {
      "cell_type": "markdown",
      "source": [
        "Проверка на наличие элемента: Напишите функцию, которая проверяет, содержится ли заданный элемент в кортеже."
      ],
      "metadata": {
        "id": "BDb2AXaZQ4ts"
      }
    },
    {
      "cell_type": "code",
      "source": [
        "def contains_element(tup, element):\n",
        "    return element in tup\n",
        "\n",
        "# Пример использования\n",
        "my_tuple = (1, 2, 3, 4, 5)\n",
        "is_present = contains_element(my_tuple, 3)\n",
        "print(\"Элемент 3 присутствует в кортеже:\", is_present)\n"
      ],
      "metadata": {
        "colab": {
          "base_uri": "https://localhost:8080/"
        },
        "id": "iN-8BuzWRzgQ",
        "outputId": "80163acd-63b9-4f9c-ce9b-16b6b251e869"
      },
      "execution_count": 23,
      "outputs": [
        {
          "output_type": "stream",
          "name": "stdout",
          "text": [
            "Элемент 3 присутствует в кортеже: True\n"
          ]
        }
      ]
    },
    {
      "cell_type": "markdown",
      "source": [
        "Индекс первого вхождения: Напишите функцию, которая находит индекс первого вхождения заданного элемента в кортеже."
      ],
      "metadata": {
        "id": "gAe_KjCmQ751"
      }
    },
    {
      "cell_type": "code",
      "source": [
        "def index_of_first_occurrence(tup, element):\n",
        "    try:\n",
        "        return tup.index(element)\n",
        "    except ValueError:\n",
        "        return -1\n",
        "\n",
        "# Пример использования\n",
        "my_tuple = (1, 2, 3, 2, 4)\n",
        "index = index_of_first_occurrence(my_tuple, 2)\n",
        "print(\"Индекс первого вхождения элемента 2:\", index)\n"
      ],
      "metadata": {
        "colab": {
          "base_uri": "https://localhost:8080/"
        },
        "id": "pUFjRhJvR3lw",
        "outputId": "f8c82627-3559-43d5-f744-53a4b46224e0"
      },
      "execution_count": 24,
      "outputs": [
        {
          "output_type": "stream",
          "name": "stdout",
          "text": [
            "Индекс первого вхождения элемента 2: 1\n"
          ]
        }
      ]
    },
    {
      "cell_type": "markdown",
      "source": [
        "Количество вхождений элемента: Напишите функцию, которая подсчитывает, сколько раз заданный элемент встречается в кортеже."
      ],
      "metadata": {
        "id": "-DzB6V5qQ-lL"
      }
    },
    {
      "cell_type": "code",
      "source": [
        "def count_occurrences(tup, element):\n",
        "    return tup.count(element)\n",
        "\n",
        "# Пример использования\n",
        "my_tuple = (1, 2, 3, 2, 4, 2)\n",
        "count = count_occurrences(my_tuple, 2)\n",
        "print(\"Количество вхождений элемента 2:\", count)\n"
      ],
      "metadata": {
        "colab": {
          "base_uri": "https://localhost:8080/"
        },
        "id": "ZBYGUcvvR8w7",
        "outputId": "903893c1-3bab-4896-b02d-9b76355bbd4d"
      },
      "execution_count": 25,
      "outputs": [
        {
          "output_type": "stream",
          "name": "stdout",
          "text": [
            "Количество вхождений элемента 2: 3\n"
          ]
        }
      ]
    },
    {
      "cell_type": "markdown",
      "source": [
        "Максимальный элемент: Напишите функцию, которая находит максимальный элемент в кортеже."
      ],
      "metadata": {
        "id": "Rgp6iY8zSARF"
      }
    },
    {
      "cell_type": "code",
      "source": [
        "def max_element(t):\n",
        "    if not t:\n",
        "        return None\n",
        "    return max(t)\n",
        "\n",
        "# Пример использования\n",
        "my_tuple = (1, 3, 5, 2, 4)\n",
        "print(max_element(my_tuple))\n"
      ],
      "metadata": {
        "colab": {
          "base_uri": "https://localhost:8080/"
        },
        "id": "P3_kM6deSMf8",
        "outputId": "c05ab58e-e59c-4be3-9473-9bd38a9dd539"
      },
      "execution_count": 26,
      "outputs": [
        {
          "output_type": "stream",
          "name": "stdout",
          "text": [
            "5\n"
          ]
        }
      ]
    },
    {
      "cell_type": "markdown",
      "source": [
        "Минимальный элемент: Напишите функцию, которая находит минимальный элемент в кортеже."
      ],
      "metadata": {
        "id": "EwvDAV-7SDj5"
      }
    },
    {
      "cell_type": "code",
      "source": [
        "def min_element(t):\n",
        "    if not t:\n",
        "        return None\n",
        "    return min(t)\n",
        "\n",
        "# Пример использования\n",
        "my_tuple = (1, 3, 5, 2, 4)\n",
        "print(min_element(my_tuple))\n"
      ],
      "metadata": {
        "colab": {
          "base_uri": "https://localhost:8080/"
        },
        "id": "TtmVk3ioS2jU",
        "outputId": "77a633a6-a30a-4bed-f4f8-25e7980facf0"
      },
      "execution_count": 27,
      "outputs": [
        {
          "output_type": "stream",
          "name": "stdout",
          "text": [
            "1\n"
          ]
        }
      ]
    },
    {
      "cell_type": "markdown",
      "source": [
        "Сортировка кортежа: Напишите функцию, которая возвращает отсортированный список на основе элементов кортежа."
      ],
      "metadata": {
        "id": "QehLIFAGSFod"
      }
    },
    {
      "cell_type": "code",
      "source": [
        "def sort_tuple(t):\n",
        "    return sorted(t)\n",
        "\n",
        "# Пример использования\n",
        "my_tuple = (5, 2, 3, 1, 4)\n",
        "print(sort_tuple(my_tuple))\n"
      ],
      "metadata": {
        "id": "NPEB0csnS8Bx"
      },
      "execution_count": null,
      "outputs": []
    },
    {
      "cell_type": "markdown",
      "source": [
        "Разбиение кортежа: Напишите функцию, которая разбивает кортеж на две части: первую половину и вторую половину."
      ],
      "metadata": {
        "id": "T2r8qe62SIHB"
      }
    },
    {
      "cell_type": "code",
      "source": [
        "def split_tuple(t):\n",
        "    mid = len(t) // 2\n",
        "    return t[:mid], t[mid:]\n",
        "\n",
        "# Пример использования\n",
        "my_tuple = (1, 2, 3, 4, 5, 6)\n",
        "first_half, second_half = split_tuple(my_tuple)\n",
        "print(first_half)\n",
        "print(second_half)\n"
      ],
      "metadata": {
        "colab": {
          "base_uri": "https://localhost:8080/"
        },
        "id": "fRP0PviJTBp6",
        "outputId": "3cabf09f-33fd-48b2-8c94-4e3a7e9b2856"
      },
      "execution_count": 28,
      "outputs": [
        {
          "output_type": "stream",
          "name": "stdout",
          "text": [
            "(1, 2, 3)\n",
            "(4, 5, 6)\n"
          ]
        }
      ]
    },
    {
      "cell_type": "markdown",
      "source": [
        "Обратный порядок: Напишите функцию, которая возвращает кортеж с элементами в обратном порядке."
      ],
      "metadata": {
        "id": "d_LKfVg6SKFl"
      }
    },
    {
      "cell_type": "code",
      "source": [
        "def reverse_tuple(t):\n",
        "   return t[::-1]\n",
        "\n",
        "# Пример использования\n",
        "my_tuple = (1, 2, 3, 4, 5)\n",
        "print(reverse_tuple(my_tuple))\n"
      ],
      "metadata": {
        "colab": {
          "base_uri": "https://localhost:8080/"
        },
        "id": "EnroOR1tTFer",
        "outputId": "91858dd8-b3da-4a88-c813-608d6426859c"
      },
      "execution_count": 29,
      "outputs": [
        {
          "output_type": "stream",
          "name": "stdout",
          "text": [
            "(5, 4, 3, 2, 1)\n"
          ]
        }
      ]
    },
    {
      "cell_type": "markdown",
      "source": [
        "Найти все элементы массива из n элементов, кратные 3 или 5. Сколько их?"
      ],
      "metadata": {
        "id": "v4cueGg8WFPD"
      }
    },
    {
      "cell_type": "code",
      "source": [
        "def count_multiples_of_3_or_5(arr):\n",
        "    multiples = [x for x in arr if x % 3 == 0 or x % 5 == 0]\n",
        "    return multiples, len(multiples)\n",
        "\n",
        "# Пример использования\n",
        "array = [1, 3, 5, 7, 9, 10, 12, 15, 20]\n",
        "result, count = count_multiples_of_3_or_5(array)\n",
        "print(\"Элементы, кратные 3 или 5:\", result)\n",
        "print(\"Количество таких элементов:\", count)\n"
      ],
      "metadata": {
        "colab": {
          "base_uri": "https://localhost:8080/"
        },
        "id": "U0PyqfSIWNXn",
        "outputId": "5ed7d0a5-8159-40a8-d22e-2baf409fb0ee"
      },
      "execution_count": 33,
      "outputs": [
        {
          "output_type": "stream",
          "name": "stdout",
          "text": [
            "Элементы, кратные 3 или 5: [3, 5, 9, 10, 12, 15, 20]\n",
            "Количество таких элементов: 7\n"
          ]
        }
      ]
    },
    {
      "cell_type": "markdown",
      "source": [
        "Дан массив A размера N и целое число K (1 <= K <= N). Вывести элементы массива с порядковыми номерами, кратными K:\n",
        "AK, A2·K, A3·K, … .\n",
        "Условный оператор не использовать."
      ],
      "metadata": {
        "id": "QhnDnh9iWHet"
      }
    },
    {
      "cell_type": "code",
      "source": [
        "def print_elements_at_k_multiples(arr, k):\n",
        "    result = arr[k-1::k]\n",
        "    return result\n",
        "\n",
        "# Пример использования\n",
        "array = [10, 20, 30, 40, 50, 60, 70, 80]\n",
        "k = 3\n",
        "result = print_elements_at_k_multiples(array, k)\n",
        "print(\"Элементы с порядковыми номерами, кратными K:\", result)\n"
      ],
      "metadata": {
        "colab": {
          "base_uri": "https://localhost:8080/"
        },
        "id": "CfihyIwCXAkl",
        "outputId": "6bf3f51f-8cc2-4f71-a483-98bc4946babb"
      },
      "execution_count": 34,
      "outputs": [
        {
          "output_type": "stream",
          "name": "stdout",
          "text": [
            "Элементы с порядковыми номерами, кратными K: [30, 60]\n"
          ]
        }
      ]
    },
    {
      "cell_type": "markdown",
      "source": [
        "Дан массив размера N. Осуществить циклический сдвиг элементов массива вправо на одну позицию (при этом A1 перейдет в A2, A2 — в A3, …, AN — в A1)."
      ],
      "metadata": {
        "id": "TV5TdQbUWJSE"
      }
    },
    {
      "cell_type": "code",
      "source": [
        "def cyclic_shift_right(arr):\n",
        "    if len(arr) == 0:\n",
        "        return arr\n",
        "    return [arr[-1]] + arr[:-1]\n",
        "\n",
        "# Пример использования\n",
        "array = [1, 2, 3, 4, 5]\n",
        "result = cyclic_shift_right(array)\n",
        "print(\"Массив после циклического сдвига вправо:\", result)\n"
      ],
      "metadata": {
        "colab": {
          "base_uri": "https://localhost:8080/"
        },
        "id": "ajRQZjqdXDPq",
        "outputId": "5c7befc7-0e15-401e-c1ad-6007acebce05"
      },
      "execution_count": 35,
      "outputs": [
        {
          "output_type": "stream",
          "name": "stdout",
          "text": [
            "Массив после циклического сдвига вправо: [5, 1, 2, 3, 4]\n"
          ]
        }
      ]
    },
    {
      "cell_type": "markdown",
      "source": [
        "Дан целочисленный двумерный массив, размерности n х m. Вывести его элементы, индексы которых являются степенями двойки (1, 2, 4, 8, 16, ...)."
      ],
      "metadata": {
        "id": "FkGaErx3WLJ6"
      }
    },
    {
      "cell_type": "code",
      "source": [
        "def print_elements_at_power_of_two_indices(matrix):\n",
        "    rows = len(matrix)\n",
        "    cols = len(matrix[0]) if rows > 0 else 0\n",
        "    power_of_two_indices = [2**i for i in range(0, max(rows, cols).bit_length())]\n",
        "\n",
        "    result = []\n",
        "    for i in power_of_two_indices:\n",
        "        if i < rows:\n",
        "            for j in power_of_two_indices:\n",
        "                if j < cols:\n",
        "                    result.append(matrix[i][j])\n",
        "\n",
        "    return result\n",
        "\n",
        "# Пример использования\n",
        "matrix = [\n",
        "    [1, 2, 3, 4],\n",
        "    [5, 6, 7, 8],\n",
        "    [9, 10, 11, 12],\n",
        "    [13, 14, 15, 16]\n",
        "]\n",
        "result = print_elements_at_power_of_two_indices(matrix)\n",
        "print(\"Элементы с индексами, являющимися степенями двойки:\", result)\n"
      ],
      "metadata": {
        "colab": {
          "base_uri": "https://localhost:8080/"
        },
        "id": "QlRt8uEoXGnA",
        "outputId": "2714e64a-7fbf-473a-9348-e1dd315024e6"
      },
      "execution_count": 36,
      "outputs": [
        {
          "output_type": "stream",
          "name": "stdout",
          "text": [
            "Элементы с индексами, являющимися степенями двойки: [6, 7, 10, 11]\n"
          ]
        }
      ]
    }
  ]
}