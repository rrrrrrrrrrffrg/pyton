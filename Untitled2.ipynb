{
  "nbformat": 4,
  "nbformat_minor": 0,
  "metadata": {
    "colab": {
      "provenance": [],
      "authorship_tag": "ABX9TyNn6wyI75WPMCCNOdNmWR9C",
      "include_colab_link": true
    },
    "kernelspec": {
      "name": "python3",
      "display_name": "Python 3"
    },
    "language_info": {
      "name": "python"
    }
  },
  "cells": [
    {
      "cell_type": "markdown",
      "metadata": {
        "id": "view-in-github",
        "colab_type": "text"
      },
      "source": [
        "<a href=\"https://colab.research.google.com/github/rrrrrrrrrrffrg/pyton/blob/main/Untitled2.ipynb\" target=\"_parent\"><img src=\"https://colab.research.google.com/assets/colab-badge.svg\" alt=\"Open In Colab\"/></a>"
      ]
    },
    {
      "cell_type": "markdown",
      "source": [
        "Задача 11: Определите класс LeaveRequest с полями имя сотрудника, начальная дата и конечная дата. Реализуйте методы update_dates(new_start_date, new_end_date), который обновляет даты отпуска, и display_info(), который выводит информацию о заявке.\n"
      ],
      "metadata": {
        "id": "rnRJn22F9vcp"
      }
    },
    {
      "cell_type": "code",
      "source": [
        "class LeaveRequest:\n",
        "    def __init__(self, employee_name, start_date, end_date):\n",
        "        self.employee_name = employee_name\n",
        "        self.start_date = start_date\n",
        "        self.end_date = end_date\n",
        "\n",
        "    def update_dates(self, new_start_date, new_end_date):\n",
        "        self.start_date = new_start_date\n",
        "        self.end_date = new_end_date\n",
        "\n",
        "    def display_info(self):\n",
        "        print(f\"Employee Name: {self.employee_name}\")\n",
        "        print(f\"Start Date: {self.start_date}\")\n",
        "        print(f\"End Date: {self.end_date}\")\n",
        "\n",
        "# Пример использования класса\n",
        "if __name__ == \"__main__\":\n",
        "    leave_request = LeaveRequest(\"John Doe\", \"2023-10-01\", \"2023-10-10\")\n",
        "    leave_request.display_info()\n",
        "    leave_request.update_dates(\"2023-10-05\", \"2023-10-15\")\n",
        "    leave_request.display_info()\n"
      ],
      "metadata": {
        "colab": {
          "base_uri": "https://localhost:8080/"
        },
        "id": "a2Ihu6XA-W-V",
        "outputId": "a6569581-2720-454a-f7b2-b1dfb0b08305"
      },
      "execution_count": 1,
      "outputs": [
        {
          "output_type": "stream",
          "name": "stdout",
          "text": [
            "Employee Name: John Doe\n",
            "Start Date: 2023-10-01\n",
            "End Date: 2023-10-10\n",
            "Employee Name: John Doe\n",
            "Start Date: 2023-10-05\n",
            "End Date: 2023-10-15\n"
          ]
        }
      ]
    },
    {
      "cell_type": "markdown",
      "source": [
        "Задача 11. Определите класс LeaveRequest, который наследуется от класса Event. Класс LeaveRequest должен добавлять поля начальная дата и конечная дата, а также методы для обновления дат отпуска.\n"
      ],
      "metadata": {
        "id": "eBtAA1RW-sdQ"
      }
    },
    {
      "cell_type": "code",
      "source": [
        "class Event:\n",
        "    def __init__(self, employee_name):\n",
        "        self.employee_name = employee_name\n",
        "\n",
        "    def display_info(self):\n",
        "        print(f\"Employee Name: {self.employee_name}\")\n",
        "\n",
        "\n",
        "class LeaveRequest(Event):\n",
        "    def __init__(self, employee_name, start_date, end_date):\n",
        "        super().__init__(employee_name)\n",
        "        self.start_date = start_date\n",
        "        self.end_date = end_date\n",
        "\n",
        "    def update_dates(self, new_start_date, new_end_date):\n",
        "        self.start_date = new_start_date\n",
        "        self.end_date = new_end_date\n",
        "\n",
        "    def display_info(self):\n",
        "        super().display_info()\n",
        "        print(f\"Leave Start Date: {self.start_date}\")\n",
        "        print(f\"Leave End Date: {self.end_date}\")\n",
        "\n",
        "\n",
        "# Пример использования\n",
        "leave_request = LeaveRequest(\"John Doe\", \"2023-06-01\", \"2023-06-15\")\n",
        "leave_request.display_info()\n",
        "leave_request.update_dates(\"2023-06-05\", \"2023-06-20\")\n",
        "print(\"\\nUpdated Leave Request:\")\n",
        "leave_request.display_info()\n"
      ],
      "metadata": {
        "colab": {
          "base_uri": "https://localhost:8080/"
        },
        "id": "peBjP_Tw-tMj",
        "outputId": "cc307560-1940-43a0-ec05-67cb5f007cee"
      },
      "execution_count": 2,
      "outputs": [
        {
          "output_type": "stream",
          "name": "stdout",
          "text": [
            "Employee Name: John Doe\n",
            "Leave Start Date: 2023-06-01\n",
            "Leave End Date: 2023-06-15\n",
            "\n",
            "Updated Leave Request:\n",
            "Employee Name: John Doe\n",
            "Leave Start Date: 2023-06-05\n",
            "Leave End Date: 2023-06-20\n"
          ]
        }
      ]
    },
    {
      "cell_type": "markdown",
      "source": [
        "Задача 11. Создать класс LeaveRequest, у которого поля employeeName, startDate, endDate будут приватными. Предоставить методы для безопасного изменения дат отпуска и доступа к имени сотрудника.\n"
      ],
      "metadata": {
        "id": "p9n0HBUG_dui"
      }
    },
    {
      "cell_type": "code",
      "source": [
        "class LeaveRequest:\n",
        "    def __init__(self, employee_name, start_date, end_date):\n",
        "        self.__employee_name = employee_name\n",
        "        self.__start_date = start_date\n",
        "        self.__end_date = end_date\n",
        "\n",
        "    def update_dates(self, new_start_date, new_end_date):\n",
        "        \"\"\"Обновляет даты отпуска.\"\"\"\n",
        "        self.__start_date = new_start_date\n",
        "        self.__end_date = new_end_date\n",
        "\n",
        "    def get_employee_name(self):\n",
        "        \"\"\"Возвращает имя сотрудника.\"\"\"\n",
        "        return self.__employee_name\n",
        "\n",
        "    def display_info(self):\n",
        "        \"\"\"Выводит информацию о заявке.\"\"\"\n",
        "        print(f\"Сотрудник: {self.__employee_name}\")\n",
        "        print(f\"Начальная дата: {self.__start_date}\")\n",
        "        print(f\"Конечная дата: {self.__end_date}\")\n",
        "\n",
        "# Пример использования\n",
        "if __name__ == \"__main__\":\n",
        "    leave_request = LeaveRequest(\"Иванов Иван\", \"2023-07-01\", \"2023-07-10\")\n",
        "    leave_request.display_info()\n",
        "    leave_request.update_dates(\"2023-07-05\", \"2023-07-15\")\n",
        "    leave_request.display_info()\n"
      ],
      "metadata": {
        "colab": {
          "base_uri": "https://localhost:8080/"
        },
        "id": "9DHzdMrH_fFy",
        "outputId": "71c84bfe-16cd-4db2-ddd5-f14580c60b83"
      },
      "execution_count": 3,
      "outputs": [
        {
          "output_type": "stream",
          "name": "stdout",
          "text": [
            "Сотрудник: Иванов Иван\n",
            "Начальная дата: 2023-07-01\n",
            "Конечная дата: 2023-07-10\n",
            "Сотрудник: Иванов Иван\n",
            "Начальная дата: 2023-07-05\n",
            "Конечная дата: 2023-07-15\n"
          ]
        }
      ]
    },
    {
      "cell_type": "markdown",
      "source": [
        "Задача 11. Лес и дерево.  Создайте класс `Лес`, содержащий множество деревьев. В классе `Лес` реализуйте метод для добавления нового дерева с указанием его вида. Класс `Дерево` должен включать поле `вид`. Деревья не могут существовать отдельно от леса.\n"
      ],
      "metadata": {
        "id": "vDjPkupRArcA"
      }
    },
    {
      "cell_type": "code",
      "source": [
        "class Tree:\n",
        "    def __init__(self, species):\n",
        "        self.species = species\n",
        "\n",
        "class Forest:\n",
        "    def __init__(self):\n",
        "        self.trees = []\n",
        "\n",
        "    def add_tree(self, species):\n",
        "        new_tree = Tree(species)\n",
        "        self.trees.append(new_tree)\n",
        "        print(f\"Дерево вида '{species}' добавлено в лес.\")\n",
        "\n",
        "    def display_trees(self):\n",
        "        if not self.trees:\n",
        "            print(\"В лесу нет деревьев.\")\n",
        "            return\n",
        "        print(\"Деревья в лесу:\")\n",
        "        for tree in self.trees:\n",
        "            print(f\"- {tree.species}\")\n",
        "\n",
        "# Пример использования\n",
        "if __name__ == \"__main__\":\n",
        "    my_forest = Forest()\n",
        "    my_forest.add_tree(\"Сосна\")\n",
        "    my_forest.add_tree(\"Ель\")\n",
        "    my_forest.add_tree(\"Береза\")\n",
        "\n",
        "    my_forest.display_trees()\n"
      ],
      "metadata": {
        "colab": {
          "base_uri": "https://localhost:8080/"
        },
        "id": "Q8yPgL_IAr_i",
        "outputId": "d9df5a21-bb53-4bd7-80f2-ea6fd4050eef"
      },
      "execution_count": 4,
      "outputs": [
        {
          "output_type": "stream",
          "name": "stdout",
          "text": [
            "Дерево вида 'Сосна' добавлено в лес.\n",
            "Дерево вида 'Ель' добавлено в лес.\n",
            "Дерево вида 'Береза' добавлено в лес.\n",
            "Деревья в лесу:\n",
            "- Сосна\n",
            "- Ель\n",
            "- Береза\n"
          ]
        }
      ]
    },
    {
      "cell_type": "markdown",
      "source": [
        "Задача 11. Фестиваль и участник. Реализуйте класс `Фестиваль`, включающий список участников. У класса `Участник` есть поля `имя` и `вид искусства`. Участники могут существовать независимо от фестиваля.\n"
      ],
      "metadata": {
        "id": "C7aDonhlA4wb"
      }
    },
    {
      "cell_type": "code",
      "source": [
        "class Participant:\n",
        "    def __init__(self, name, art_form):\n",
        "        self.name = name\n",
        "        self.art_form = art_form\n",
        "\n",
        "    def display_info(self):\n",
        "        return f\"Участник: {self.name}, Вид искусства: {self.art_form}\"\n",
        "\n",
        "\n",
        "class Festival:\n",
        "    def __init__(self, festival_name):\n",
        "        self.festival_name = festival_name\n",
        "        self.participants = []\n",
        "\n",
        "    def add_participant(self, participant):\n",
        "        self.participants.append(participant)\n",
        "\n",
        "    def display_participants(self):\n",
        "        print(f\"Участники фестиваля '{self.festival_name}':\")\n",
        "        for participant in self.participants:\n",
        "            print(participant.display_info())\n",
        "\n",
        "\n",
        "# Пример использования\n",
        "if __name__ == \"__main__\":\n",
        "    festival = Festival(\"Фестиваль Искусств\")\n",
        "\n",
        "    participant1 = Participant(\"Иван\", \"Музыка\")\n",
        "    participant2 = Participant(\"Анна\", \"Танец\")\n",
        "    participant3 = Participant(\"Петр\", \"Живопись\")\n",
        "\n",
        "    festival.add_participant(participant1)\n",
        "    festival.add_participant(participant2)\n",
        "    festival.add_participant(participant3)\n",
        "\n",
        "    festival.display_participants()\n"
      ],
      "metadata": {
        "colab": {
          "base_uri": "https://localhost:8080/"
        },
        "id": "AKcs9zCcA5xQ",
        "outputId": "69796b4a-ed47-4194-a69d-7f8ef2402b72"
      },
      "execution_count": 5,
      "outputs": [
        {
          "output_type": "stream",
          "name": "stdout",
          "text": [
            "Участники фестиваля 'Фестиваль Искусств':\n",
            "Участник: Иван, Вид искусства: Музыка\n",
            "Участник: Анна, Вид искусства: Танец\n",
            "Участник: Петр, Вид искусства: Живопись\n"
          ]
        }
      ]
    },
    {
      "cell_type": "markdown",
      "source": [
        "Задача 11. Создать класс Circle, наследующий абстрактный класс 2DShape, с полем radius. Реализовать методы для вычисления периметра и площади круга."
      ],
      "metadata": {
        "id": "C9zmI_tLBoWT"
      }
    },
    {
      "cell_type": "code",
      "source": [
        "from abc import ABC, abstractmethod\n",
        "import math\n",
        "\n",
        "class TwoDShape(ABC):\n",
        "    @abstractmethod\n",
        "    def perimeter(self):\n",
        "        pass\n",
        "\n",
        "    @abstractmethod\n",
        "    def area(self):\n",
        "        pass\n",
        "\n",
        "class Circle(TwoDShape):\n",
        "    def __init__(self, radius):\n",
        "        self.radius = radius\n",
        "\n",
        "    def perimeter(self):\n",
        "        return 2 * math.pi * self.radius\n",
        "\n",
        "    def area(self):\n",
        "        return math.pi * (self.radius ** 2)\n",
        "\n",
        "# Пример использования\n",
        "if __name__ == \"__main__\":\n",
        "    radius = float(input(\"Введите радиус круга: \"))\n",
        "    circle = Circle(radius)\n",
        "\n",
        "    print(f\"Периметр круга: {circle.perimeter():.2f}\")\n",
        "    print(f\"Площадь круга: {circle.area():.2f}\")\n"
      ],
      "metadata": {
        "colab": {
          "base_uri": "https://localhost:8080/"
        },
        "id": "yeBzD0jZBsX7",
        "outputId": "c47c89aa-db1a-4a52-e548-6c80eea37220"
      },
      "execution_count": 6,
      "outputs": [
        {
          "output_type": "stream",
          "name": "stdout",
          "text": [
            "Введите радиус круга: 3\n",
            "Периметр круга: 18.85\n",
            "Площадь круга: 28.27\n"
          ]
        }
      ]
    },
    {
      "cell_type": "markdown",
      "source": [
        "Задача 11. Создать интерфейс ILeaveRequest, который содержит методы updateDates(LocalDate start, LocalDate end) и getRequestInfo(). Создать класс LeaveRequest, реализующий этот интерфейс. Класс должен содержать поля employeeName, startDate и endDate.\n"
      ],
      "metadata": {
        "id": "bx8nfgCICLKu"
      }
    },
    {
      "cell_type": "code",
      "source": [
        "from abc import ABC, abstractmethod\n",
        "from datetime import datetime\n",
        "\n",
        "class ILeaveRequest(ABC):\n",
        "\n",
        "    @abstractmethod\n",
        "    def update_dates(self, start: datetime, end: datetime):\n",
        "        pass\n",
        "\n",
        "    @abstractmethod\n",
        "    def get_request_info(self) -> str:\n",
        "        pass\n",
        "\n",
        "class LeaveRequest(ILeaveRequest):\n",
        "\n",
        "    def __init__(self, employee_name: str, start_date: datetime, end_date: datetime):\n",
        "        self.employee_name = employee_name\n",
        "        self.start_date = start_date\n",
        "        self.end_date = end_date\n",
        "\n",
        "    def update_dates(self, start: datetime, end: datetime):\n",
        "        self.start_date = start\n",
        "        self.end_date = end\n",
        "\n",
        "    def get_request_info(self) -> str:\n",
        "        return (f\"Employee Name: {self.employee_name}\\n\"\n",
        "                f\"Start Date: {self.start_date.strftime('%Y-%m-%d')}\\n\"\n",
        "                f\"End Date: {self.end_date.strftime('%Y-%m-%d')}\")\n",
        "\n",
        "# Пример использования\n",
        "if __name__ == \"__main__\":\n",
        "    leave_request = LeaveRequest(\"John Doe\", datetime(2023, 12, 1), datetime(2023, 12, 15))\n",
        "\n",
        "    print(leave_request.get_request_info())\n",
        "\n",
        "    leave_request.update_dates(datetime(2023, 12, 5), datetime(2023, 12, 20))\n",
        "\n",
        "    print(\"\\nUpdated Leave Request:\")\n",
        "    print(leave_request.get_request_info())\n"
      ],
      "metadata": {
        "colab": {
          "base_uri": "https://localhost:8080/"
        },
        "id": "CW8tq0eoCL4d",
        "outputId": "63e25ad5-4a79-4fdc-f58c-4d57c8bdbb31"
      },
      "execution_count": 7,
      "outputs": [
        {
          "output_type": "stream",
          "name": "stdout",
          "text": [
            "Employee Name: John Doe\n",
            "Start Date: 2023-12-01\n",
            "End Date: 2023-12-15\n",
            "\n",
            "Updated Leave Request:\n",
            "Employee Name: John Doe\n",
            "Start Date: 2023-12-05\n",
            "End Date: 2023-12-20\n"
          ]
        }
      ]
    },
    {
      "cell_type": "markdown",
      "source": [
        "Задача 11. Определите метод approve() в классе LeaveRequest, который будет утверждать заявку на отпуск. Создайте подклассы PaidLeaveRequest и UnpaidLeaveRequest, которые будут переопределять этот метод в зависимости от типа отпуска."
      ],
      "metadata": {
        "id": "XqLDVAnEDJ4Y"
      }
    },
    {
      "cell_type": "code",
      "source": [
        "class LeaveRequest:\n",
        "    def __init__(self, employee_name, start_date, end_date):\n",
        "        self.employee_name = employee_name\n",
        "        self.start_date = start_date\n",
        "        self.end_date = end_date\n",
        "        self.approved = False\n",
        "\n",
        "    def update_dates(self, new_start_date, new_end_date):\n",
        "        self.start_date = new_start_date\n",
        "        self.end_date = new_end_date\n",
        "\n",
        "    def display_info(self):\n",
        "        approval_status = \"Approved\" if self.approved else \"Not Approved\"\n",
        "        print(f\"Employee: {self.employee_name}, Start Date: {self.start_date}, End Date: {self.end_date}, Status: {approval_status}\")\n",
        "\n",
        "    def approve(self):\n",
        "        self.approved = True\n",
        "        print(f\"Leave request for {self.employee_name} has been approved.\")\n",
        "\n",
        "class PaidLeaveRequest(LeaveRequest):\n",
        "    def approve(self):\n",
        "        super().approve()\n",
        "        print(f\"Paid leave request for {self.employee_name} has been approved.\")\n",
        "\n",
        "class UnpaidLeaveRequest(LeaveRequest):\n",
        "    def approve(self):\n",
        "        super().approve()\n",
        "        print(f\"Unpaid leave request for {self.employee_name} has been approved.\")\n",
        "\n",
        "# Пример использования\n",
        "if __name__ == \"__main__\":\n",
        "    paid_leave = PaidLeaveRequest(\"Alice\", \"2023-07-01\", \"2023-07-15\")\n",
        "    unpaid_leave = UnpaidLeaveRequest(\"Bob\", \"2023-08-01\", \"2023-08-10\")\n",
        "\n",
        "    paid_leave.display_info()\n",
        "    unpaid_leave.display_info()\n",
        "\n",
        "    paid_leave.approve()\n",
        "    unpaid_leave.approve()\n",
        "\n",
        "    paid_leave.display_info()\n",
        "    unpaid_leave.display_info()\n"
      ],
      "metadata": {
        "id": "BebJALhSECbE",
        "outputId": "fa947b98-51e9-4425-c132-dfc505104c47",
        "colab": {
          "base_uri": "https://localhost:8080/"
        }
      },
      "execution_count": 8,
      "outputs": [
        {
          "output_type": "stream",
          "name": "stdout",
          "text": [
            "Employee: Alice, Start Date: 2023-07-01, End Date: 2023-07-15, Status: Not Approved\n",
            "Employee: Bob, Start Date: 2023-08-01, End Date: 2023-08-10, Status: Not Approved\n",
            "Leave request for Alice has been approved.\n",
            "Paid leave request for Alice has been approved.\n",
            "Leave request for Bob has been approved.\n",
            "Unpaid leave request for Bob has been approved.\n",
            "Employee: Alice, Start Date: 2023-07-01, End Date: 2023-07-15, Status: Approved\n",
            "Employee: Bob, Start Date: 2023-08-01, End Date: 2023-08-10, Status: Approved\n"
          ]
        }
      ]
    }
  ]
}