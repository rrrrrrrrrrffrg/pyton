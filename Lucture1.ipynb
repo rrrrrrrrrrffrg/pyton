{
  "nbformat": 4,
  "nbformat_minor": 0,
  "metadata": {
    "colab": {
      "provenance": [],
      "authorship_tag": "ABX9TyPJ3f59uFmoVt0lI8uN7FnB",
      "include_colab_link": true
    },
    "kernelspec": {
      "name": "python3",
      "display_name": "Python 3"
    },
    "language_info": {
      "name": "python"
    }
  },
  "cells": [
    {
      "cell_type": "markdown",
      "metadata": {
        "id": "view-in-github",
        "colab_type": "text"
      },
      "source": [
        "<a href=\"https://colab.research.google.com/github/rrrrrrrrrrffrg/pyton/blob/main/Lucture1.ipynb\" target=\"_parent\"><img src=\"https://colab.research.google.com/assets/colab-badge.svg\" alt=\"Open In Colab\"/></a>"
      ]
    },
    {
      "cell_type": "markdown",
      "source": [
        "![Снимок экрана 2025-03-18 085355.png](data:image/png;base64,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)\n"
      ],
      "metadata": {
        "id": "ar6ZLGZv0JhT"
      }
    },
    {
      "cell_type": "markdown",
      "source": [],
      "metadata": {
        "id": "5di0vi5e0Ilh"
      }
    },
    {
      "cell_type": "code",
      "source": [
        "a = int(input())\n",
        "b = int(input())\n",
        "t = (10 * a * a * (a - 3*b))/((a*a - 3 * a * b) * 15 * a * a * a * b)\n",
        "print (t)"
      ],
      "metadata": {
        "colab": {
          "base_uri": "https://localhost:8080/"
        },
        "id": "iS8IgKC60X39",
        "outputId": "14ca036f-2c42-4525-f929-b6f2c26bface"
      },
      "execution_count": 2,
      "outputs": [
        {
          "output_type": "stream",
          "name": "stdout",
          "text": [
            "1\n",
            "2\n",
            "0.3333333333333333\n"
          ]
        }
      ]
    },
    {
      "cell_type": "markdown",
      "source": [
        "![Снимок экрана 2025-03-18 093544.png](data:image/png;base64,iVBORw0KGgoAAAANSUhEUgAAASEAAACkCAYAAADYF5jEAAAAAXNSR0IArs4c6QAAAARnQU1BAACxjwv8YQUAAAAJcEhZcwAADsMAAA7DAcdvqGQAABZ6SURBVHhe7d0JmE3lHwfwl/InO1GilLIUEqWisSQREUWoSWUpRIulqGzVqITnkVSkpCghS1SMPSLbWMuaJWGsWUpKqfM/33fekzt37szce+ee854z5/t5nvOY8xrL3OV33+X3/t4chkkQEWmSU/1KRKQFgxARacUgRERaMQgRkVYMQkSkFYMQEWnFIEREWjEIEZFWDEJEpBWDEBFpxSBERFoxCBGRVgxCRKQVgxARacUgRERaMQgRkVYMQkSkFYMQEWnFIEREWjEIEZFWDEJEpBWDEBFpxSBERFoxCBGRVgxCRKQVgxARacUgRERa+SIIbdiwQaxYsULdEVG41q9fL1atWqXu7OGLIJSUlCSWLl2q7ogoXAhAy5YtU3f24HCMHHX8+HGxfPlyMWnSJNVCOixevFgcPnxY3enFIESOSU5OFt27dxdbtmwR1atXV62kQ/ny5cWiRYvEhAkTxNmzZ1WrHgxC5IjffvtNNGnSRFx88cUiPj5elC1bVv0O6VCqVCnRqFEjMXfuXBmIzp07p37HeQxCZLu9e/eKuLg4UbNmTdGvXz+RL18+9TukU5EiRcSwYcPEwoULxYgRI+QHhQ4MQmSrkydPioSEBNG4cWMxaNAg2RMi9yhRooQYOXKkmDhxopg3b55qdRaDENkKk9A7d+4UAwcOFEWLFlWt5CbFihUTXbt2FW+99ZbYtWuXanUOgxDZ5vTp0yIxMVG0bt1aXHTRRaqV3KhVq1aiZMmSYvz48eLff/9Vrc5gECLbbN68WZw5c0a+wHPkyKFayY0KFiwonyfkBDEIUbYxf/58uQpWvHhx1UJuVq1aNTk5vXHjRtXiDAYhsoVhGGL48OGiatWqqoXcrkyZMqJBgwaiV69eqsUZDEJkC/SCsASMVTHyDqRR2L1NIxiDENli+/btom7duuqOvAJBKGfOnGLNmjWqxX4MQmQLZOFyKOY9yOPCIsLWrVtVi/0YhMgWJ06cEAUKFFB35CX9+/cXq1evVnf2YxCimNu3b5/cFNmuXTvVQl7DnhB52g8//CB+//13dUeUMQYhItKKQYiItGIQIiKtGISISCsGISLSikGIiLRiECIirRiEiEgrBiEi0opBiIi0YhAiIq0YhIhIKwYhItKKQYiItGIQIiKtGISUP/74Q/z111/qzt9w7pSuc8nJfxiETOfOnRNDhgyRxxXT+fPjUaKVyG4MQqZBgwaJCy64QJ67RELkz59fFjyfOnWq+Oeff1QrkT18H4RQivS7774Tffr04Xnpyv/+9z/x0EMPie+//14OU4ns5OsghHmPTp06ifj4eJErVy7VSnD55ZeL0qVLi2eeeUa1ENnD10Ho22+/FYUKFeKpEOm4++67xeeffy7WrVunWohiz7dBCMOMxYsXi1KlSqkWClaxYkUZoD/77DPVQhR7vg1CWAHCJ/zDDz+sWrwHKQUYUsbqwjE9WJ4PdPXVV4slS5ZwgjoGcBbbtm3bxBtvvJHm8fziiy/El19+mebx94Mchkl9nW198MEH4pdffpGTzxb0grp27SpXgCpVqqRavWXo0KFi8uTJMVvVu/TSS0W/fv1EiRIlVEsK3I8dO1Y0adJEtWRszpw5om3btvIxp/PGjx8vh7dz584VU6ZMEffee6/6HSEaNWokfv31V3l89jXXXKNa9cBqMd4fCxcuFKNHj5YfTr169VK/awMEoezu/fffNwYPHqzuUphvNqNWrVrGnj17VIv3dOrUyRgzZoy6s0+uXLkMM+Cpu8zNnj3bKFq0qLqjQHhszKBumMNc1ZIiMTHReOyxx4ydO3eqFn0SEhKMO+64Q349atQoY9iwYfJru/h2OLZo0SJRsmRJUbBgQdXiPV999ZW4/vrr1Z197r//fnksMIZslDXmm1v2XGfNmqVaUlx33XXihhtuEFdeeaVq8Q/fBiHkBuHFYH5iqxZvQUD4888/RY0aNcTff/8tzpw5o34nMpinyOzPInkRcxnHjx9XLRSt3Llzy8RYPO6BVqxYIapVqyYuvPBC1eIfvgxCBw8eVF951/z58/8LoNu3bxczZsyQX0dq5cqVYf1ZBiH7mEM0kZycLOLi4lSLv/gyCOFJzw6siWIEh2j3vSEgZ/Zny5YtK/8NZk/HRuDE84EDB8SyZctEhw4dVIv/+DIIYXne66ZPny679k6oW7eu/HXDhg3yV8oaPJ4YQo8aNUoMHz5cZqUjadavXB+EDMOQw42lS5dGPe8R7KeffpLLznfeeadq8abevXurr+yVI0cO+Sszp2MH+UC7d+8WnTt3lqkRfubqIIShAj4tHnzwQTn0iNVcDnKDvAyPQ3aY1/IzBPby5cuLcuXKqRb/cnUQKlKkiGjYsKG47LLLxOnTp1UrHT16VFStWlXkyZNHtZDXIPnzkUceUXf+5uoghDcZltELFy6sWggwn4CyI9YwibwBUwtYZURqBbYLOTWn53a+nJj2ui1btsj5MT/mlHjR3r17ZfVOJHx+/fXX4p577lG/Q+D5IPTzzz+rr4R8krP7XAk2PiKn5KabbpLFx8jdUBiuW7du4qWXXpLVCO677z5Zq4nO+y8Ibd68We7uxbVx40bVmgIbET/++ONUafsDBgyQGyh1mTZtmihWrJh8grHadeONN4pbb71VXHvttSF3KUfCehywehHoySefFElJSepOD2TahvN/wPfgZ8Dy76effqpahdizZ48sz4HhwK5du1SrftZjjoqOgdasWSOfU+zk9yKUyb3iiitkT+iFF16QVQkoNRmEkISGtPFvvvlGvPjii/JXC8ax2GeFJXJ8bUGS1fPPPy9LEARD0MKLZ/Xq1WFdkcCbELuQ33nnHfnv7Nu3T+5Mbt++vUxCRDDC/yua5L3ly5fLHfcIwvg7MH634OdFEbQWLVqoFj2wtItktypVqqiW0KpXry6vTZs2yaCDfWaYi8AubavHeOjQIfXd+uH5w3OLndu33367/MDD/7Vnz54yhwY9Ci/C/kSs8A4ePFjkzZtXtVIqZmD5j9kbMgoWLGg0b95ctRjGmTNnjMqVKxtxcXHG8ePHVathmC9io0yZMob5QlYt55kvJKNevXpGnTp1wroyYn6CGPHx8Yh+qXYYT5w40ciZM6dhBh3DHHOrVsMYO3as/F7zU0e1pN1Fj13MuObPn69aUjN7CHIX+Lhx41RLiunTpxs1atRQd3ocO3ZMPj/4P1rMXoJhdvfVXWpz5swxzDeCYb7JjSlTphhm0Fa/k8IcIqT7Zy2rVq2Sj2nHjh1VS4rgv8uSlV30Xbp0Mcw3q2H2vOXjj9cfOUvrLnpU0kOtZcw5WPr27SvatGkjE9UC0/bRW3jllVdCJlphUyWGb/gkC+fKCizjoxZyLBUoUED2NNA7NB8j1Zri2WefVV+lhoJU5psmrCvS3l8g9ISwaogufjiwHwk9J+wPQ6Z4rOYjzA8BOb+BT/hYQu8NPTb0sOvXr5/p4QOhHt/0rh9//FH9KXKTDCemMaRCdxJjcgQgq+obxrcoeoTCVaGg24k3CYJDOJfTEEgQXIIDjMXsYckXP4o5WfAzY2WjZcuWqiU1zI899dRTYV3YchEt7DNCEAq3MD8CKp6PU6dOiXz58qnWrMPwfO3atXJuLpbM3pZ8nWHSPZyAGerxTe/CZt1AmAetWbOmrBLgl+vRRx913balNEHIyuA0u/0iMTExzSc/JnzxZsyoOPz+/fvlJxnebOFcOuBNieN+woG8HCSXpRd0AW9KJFSGc2Wl94AeKXoL4cKHR4UKFeTX+Jmz4qqrrlJfpSxMINlu0qRJqiU2sMiAyVy8hgJXPtMT6vFN7wou5YuKmujthvre7HphhOK2vLs0QQhdbERKvOnQHQ6E1SJk6+KFnVFJUXzfRx99FLJLHOpyGlYo0OU/fPiwakkNPQa8QDEZDVhRwqcIVt+cgKEuehh40QTDIkEkxfnRm8VyPnp9qKEUDSsYoCCXBT1kPMexLkWK1wPyaBAweQKsP4QcjiGIICEOwzBA76hy5cqyZ4QL+7gyyvZEFxcv0FDzP6Eup+Eom4xYcy540+LNi/kP1AO2+3BEJLUh5QBbVbCcG6qnhiEESmuEA6uHWIZv3LixDKDR1gMKXC21E/b0obIgcmp27NghX4Pg1ZUxCk/IIISxOIrAW0WzMP+AMTq6chgKYJ4hI/h+dPnCvTJjVaELnBi32jA8xHwNIGDgBAoI/N5gCKD4d/HnrHmuUPB3Ya4HG2hjOZ8SCgLEq6++KntnCESYRMUbMXDeCr0DPA8ZlXTFz41lbqQoYLIcAbV48eIytQABDOkMWDKOBB4HlJ8IdzI8Ekh7QLBBoMEcXOvWreVzg+cIuUHoEeL/TenDewHDWPRY0cP3mpBBqF69emmGHliFwicVekROwbwUVpIQaPD/wbwLhip4o+IT/pZbbpEJi3jTYRsDxvfIG8L34ntQ/ya9usgPPPCAfJNjeJkezKXgzWvNqdgJwQKlOdDrQoErvBE/+eQTOR9lwckaGFplBI9LQkKCzLvBhwECKKAnh6A7YsQIufk1EkeOHJFDwMw+fKKBnC+sRKLmMuosY9iLHif+3wsWLJA/D54rCg0BCK+THj16yDm6N998U57a4SnmJ20qyMUJzLsB841srFu3zjB/YNXiDPOT3zADRaoLp2OcOHEiTbv5CZCmzRxWyjyTUKdtzJw5M93TNvB34XSJSZMmqRZn4fFu27atYb7pjTVr1qhWw3jvvfdCnnoRmCeE58jsWRhmQJb3gdCG59cMRqolvDyhQoUKGQMGDFB3mYskTyg5OVl+v/kprloMw+ydGtu3bzeSkpIMMwirVgpl7dq1hhnA5et95cqVhhnEs3wCi/bTNjDRGLxsjk8nFOF2eq8STsLAfFTghRUa9BKC29F9D27D5Hl68zj4GdF9DbVcid4R/j4MDXTA420GSNmLM4OlahXCDKbqq/ThOUKPArlawdCG5xeF1iOB/w+ymO2AMi2Yswoc6lm1dtDr4ybdjOF92bRpU/l6xwgAOX0YDXhJyOGYH2B4gSNWsBRsBmM5J4EhHH7FvivklegslYEkQwxTcBCdtUqG+av0kiXtgv1cmBtEYCP3wWs08HWKD6HMFl7cxrdBCL0pvNERcLDi16pVK7kitX79+lQnY+qCHh8+5fACQy4OJprTm9+yE1bG0AtCOVxyNzxXmD/12geGb4MQJm2bNWsmJ7XR40B+FCZzrYlc3TAEwgIBhk5YEMDQEUcFOwmpGkhTwJI5uRty2d59913x2muvea5ovm+DEOATA6t+Y8aMEa+//rqoXbt22NshnIAUe6QGYNc7dvc7+X/D0A+Jg3hMrFQNch9MJSC/DAHoww8/lNnm6A2h3St8HYTg7bfflp/2yLNwo06dOslUhXnz5kWUKZ1VOOEE+Tkvv/yyaiE3wusWm8zRY8YWqPHjx8uyLTqG7tHyfRDCKhkme1ERwI3bBJ577jmZA4Xs54xWqAL3dUXKyoy3IOENL2gMVyPNKaLYwUKJlXxrwYdDIKtmNeYMkWuFC68Vu7P7Y8n3QQgaNGgg98lhXO02yHaOj49Xd6Fhm0y0c1mYCwsu1Iasa0yIo8phpMv5lHVDhgwRderUkdMFWH63YMoAzzU+jKx9jTg7D72fwAsbdd00rZAZBiETSnfgDYeqjG40bNgw2cUO7rFY8IKLNocL+VDBL1jMk6HCppdeyNkJMufxfDdv3lwunKC+l1VtAikT6LlbQ3M8RyjVEnh57XljEPIAJPRh0zBeYOQPSNRFLwdbZbA6ie0ZqBf++OOPp+odZQcMQkQuhdQRpGqg9vldd92VbT+EGISIXAqbxRGEUGEho43WXscgRORSqAqBHC2sjqIiRHbFIETkQqithH2MSB3B1wxCROQo5AOhF4StO8iA3rFjh8xjy6i2u1cxCBG5BKpe3nbbbfLEXBwZjVwh5GnhIE6csoLs9S5duqjvzj4YhIhcArXDL7nkEnk0ESolWmf6IaEUFR+QpBhc8TQ7YBAicgmUbsFexpEjR8rTTCyo646CdqgTpLPGlV0YhIhcJNSBj8jox+54pyubOoVBiMgGkRxQ6XcMQkQBDh48KPdrhbqwO51ij0GIKACKx2EXevDVq1cv19ac8joGISIFZ7yhwF3Pnj3/u3DgAUpq4NfMznyj6DAIESmoJ4VTcFEqAxeqWmKZHEc/dezYUX0XxVoOHD6mvs620MXGeL5Pnz6qhew0Z84c0bZtW0/PoaA8KhIGEYRQ1yc9+Bm7d++u7s6bPXt2mqN3UKcJyYYVK1ZULSlQFdHu8/aRg5TR8eGBcMzU4sWL5TzY6NGj5bYRDEftwiBEMef1IIQi/6hQiFo+SBTEEnl6sKUi1M/ZsGFDWRc8ELKf8XcGL7VjGBhcxjXWIil853QQ4nCMKAj2bWHnesuWLTMMQIDAgizn4Asnxwa3pZfrgwCBU1XsvNycY8QgRBRgwYIFcg9X165dVYuQZ7658RCE7IJBiEhBAEIvCGVULdOmTZNneuXJk0e1UKwxCBGZUCrjiSeekAEIwyYMp3C1adNGHr0T6RE6mQ3j6Dw+UkSmU6dOyQJiEyZMSHPh5JFIJSQkqK8oMwxCRKabb75Znt0W6ipXrpz6rvChMD2Fh0GIyMOwhL579251500MQkQedO7cOZmPhczuTZs2qVZvYhAi8iCcxIGDELMDBiGKORynjcxgsseRI0fEjBkz5Ln0dkGBfacwCFHMYb8VsoCTkpJUC8XSlClTxOnTp22rN42i+qVLl1Z39mMQIlvgHPW5c+eqO4oVbHSdOnWq3N9lV28T+8aw1cMpDEJkC+wUD97ASVmDpEnsZ+vbt6/ci2YH/BvY0167dm3VYj8GIbIFMo0PHDig7iirjh07Jneyo2xIgwYNVGvs4bghVBGwK8iFwiBEtsCLGDvRZ86cqVooWuiZLFmyRJQoUUIWWrPT2LFjxcCBA9WdMxiEyDb9+vUTs2bNEmfPnlUtFI1t27aJcePGyVXHrVu3ynkhXOhpoteyd+9eeY/aRlmBukgo5pZRETc7MAiRbZo2bSr2798vKwdS9KZPny4ni7EfLbD4PgITAvyIESPkPYqPZQWKmOXOnTtN5Ue7MQiRbYoVKyb3XSUmJsohBUUHZVlR3whBHfNB1oUC/CiqVqVKFXmPXf/ROnnypJg8ebLo0KFDlv6eaDAIkW3y5s0ry2PgBIvk5GTVSpFq1qyZGDp0aJoLK2WomNiuXTt5j8c7Whs3bpR/HmVpncYgRLaqVKmSzOxt3769OHr0qGolN1m3bp083qhz586icOHCqtU5DEJkO5ww0aRJE9GjRw8GIpfB5PbTTz8tunXrJmrVqqVancUgRLbLnz+/rFiImj0DBgyQKzCUdXg8+/fvL+eGooEPBCsAYS5IFwYhcgwOECxTpowYM2aMHAJQ1mDJHsdYVahQQbWED/N0KAMSHx8v55Z0YhAix6BH1Lt3b1G1alVx6NAh1Uo64PHH9g9rclsnBiFyXP369dOcTkrOatGihShfvry608sXQQi7jbGrm4gig/eO3bWFfHEMNBG5F4djRKQVgxARacUgRERaMQgRkVYMQkSkFYMQEWnFIEREWjEIEZFWDEJEpBWDEBFpxSBERFoxCBGRVgxCRKQVgxARacUgRERaMQgRkVYMQkSkFYMQEWkkxP8Be1zjtBPa75QAAAAASUVORK5CYII=)\n"
      ],
      "metadata": {
        "id": "G4JCauFv9zWR"
      }
    },
    {
      "cell_type": "code",
      "source": [
        "import math\n",
        "\n",
        "x = int(input())\n",
        "y = int(input())\n",
        "z = int(input())\n",
        "\n",
        "value = (y - math.sqrt(abs(x))) * (x - (y / (z + (x * x / 4))))\n",
        "v = abs(value)\n",
        "w = math.log(v)\n",
        "print(w)"
      ],
      "metadata": {
        "colab": {
          "base_uri": "https://localhost:8080/"
        },
        "id": "DVisulR4LYC6",
        "outputId": "98d5fffe-4ff1-4b06-f8e7-17da26bb6dfe"
      },
      "execution_count": 14,
      "outputs": [
        {
          "output_type": "stream",
          "name": "stdout",
          "text": [
            "2\n",
            "1\n",
            "1\n",
            "0.6213203435596427\n",
            "-0.4759084789113784\n"
          ]
        }
      ]
    },
    {
      "cell_type": "markdown",
      "source": [
        "Треугольник задан величинами углов и радиусом описанной окружности. Найти стороны треугольника.\n"
      ],
      "metadata": {
        "id": "F1DmJXQbOwTM"
      }
    },
    {
      "cell_type": "code",
      "source": [
        "import math\n",
        "\n",
        "def calculate_triangle_sides(angle_a, angle_b, angle_c, radius):\n",
        "    angle_a_rad = math.radians(angle_a)\n",
        "    angle_b_rad = math.radians(angle_b)\n",
        "    angle_c_rad = math.radians(angle_c)\n",
        "    side_a = 2 * radius * math.sin(angle_a_rad)\n",
        "    side_b = 2 * radius * math.sin(angle_b_rad)\n",
        "    side_c = 2 * radius * math.sin(angle_c_rad)\n",
        "\n",
        "    return side_a, side_b, side_c\n",
        "\n",
        "angle_a = float(input(\"Введите угол A (в градусах): \"))\n",
        "angle_b = float(input(\"Введите угол B (в градусах): \"))\n",
        "angle_c = float(input(\"Введите угол C (в градусах): \"))\n",
        "radius = float(input(\"Введите радиус описанной окружности (R): \"))\n",
        "if angle_a + angle_b + angle_c != 180:\n",
        "    print(\"Ошибка: Сумма углов должна быть равна 180 градусам.\")\n",
        "else:\n",
        "    sides = calculate_triangle_sides(angle_a, angle_b, angle_c, radius)\n",
        "    print(f\"Стороны треугольника:\\nA = {sides[0]:.2f}\\nB = {sides[1]:.2f}\\nC = {sides[2]:.2f}\")"
      ],
      "metadata": {
        "colab": {
          "base_uri": "https://localhost:8080/"
        },
        "id": "i_38fm9tOxwL",
        "outputId": "a2d41730-5000-429e-ba15-60ed67cd790d"
      },
      "execution_count": 19,
      "outputs": [
        {
          "output_type": "stream",
          "name": "stdout",
          "text": [
            "Введите угол A (в градусах): 120\n",
            "Введите угол B (в градусах): 30\n",
            "Введите угол C (в градусах): 30\n",
            "Введите радиус описанной окружности (R): 3\n",
            "Стороны треугольника:\n",
            "A = 5.20\n",
            "B = 3.00\n",
            "C = 3.00\n"
          ]
        }
      ]
    },
    {
      "cell_type": "markdown",
      "source": [],
      "metadata": {
        "id": "RHV-EFPKPyLg"
      }
    },
    {
      "cell_type": "markdown",
      "source": [
        "Дано целое число, большее 999. Используя одну операцию деления нацело и одну операцию взятия остатка от деления, найти цифру, соответствующую разряду тысяч в записи этого числа."
      ],
      "metadata": {
        "id": "VanjXC5YT6O_"
      }
    },
    {
      "cell_type": "code",
      "source": [
        "number = int(input(\"Введите целое число больше 999: \"))\n",
        "if number > 999:\n",
        "    thousands_digit = (number // 1000) % 10\n",
        "    print(\"Цифра в разряде тысяч:\", thousands_digit)\n",
        "else:\n",
        "    print(\"Число должно быть больше 999.\")"
      ],
      "metadata": {
        "colab": {
          "base_uri": "https://localhost:8080/"
        },
        "id": "eJol8viaT7kq",
        "outputId": "922fdae8-ae96-42ae-c708-8b03331f938f"
      },
      "execution_count": 20,
      "outputs": [
        {
          "output_type": "stream",
          "name": "stdout",
          "text": [
            "Введите целое число больше 999: 1000\n",
            "Цифра в разряде тысяч: 1\n"
          ]
        }
      ]
    },
    {
      "cell_type": "markdown",
      "source": [
        "Даны три целых числа: A, B, C. Проверить истинность высказывания: «Справедливо двойное неравенство A < B < C».\n"
      ],
      "metadata": {
        "id": "elDNhUiQUJBZ"
      }
    },
    {
      "cell_type": "code",
      "source": [
        "A = int(input(\"Введите целое число A: \"))\n",
        "B = int(input(\"Введите целое число B: \"))\n",
        "C = int(input(\"Введите целое число C: \"))\n",
        "if A < B < C:\n",
        "    print(\"Справедливо: A < B < C\")\n",
        "else:\n",
        "    print(\"Несправедливо: A < B < C\")"
      ],
      "metadata": {
        "colab": {
          "base_uri": "https://localhost:8080/"
        },
        "id": "y9AtH3h2UJry",
        "outputId": "085b46d5-2cdb-47cd-8a7f-38ef1981d04a"
      },
      "execution_count": 21,
      "outputs": [
        {
          "output_type": "stream",
          "name": "stdout",
          "text": [
            "Введите целое число A: 1\n",
            "Введите целое число B: 2\n",
            "Введите целое число C: 3\n",
            "Справедливо: A < B < C\n"
          ]
        }
      ]
    }
  ]
}