{
  "nbformat": 4,
  "nbformat_minor": 0,
  "metadata": {
    "colab": {
      "provenance": [],
      "authorship_tag": "ABX9TyO7EWLi0jvYxa6d0xzx9lke",
      "include_colab_link": true
    },
    "kernelspec": {
      "name": "python3",
      "display_name": "Python 3"
    },
    "language_info": {
      "name": "python"
    }
  },
  "cells": [
    {
      "cell_type": "markdown",
      "metadata": {
        "id": "view-in-github",
        "colab_type": "text"
      },
      "source": [
        "<a href=\"https://colab.research.google.com/github/rrrrrrrrrrffrg/pyton/blob/main/Untitled1.ipynb\" target=\"_parent\"><img src=\"https://colab.research.google.com/assets/colab-badge.svg\" alt=\"Open In Colab\"/></a>"
      ]
    },
    {
      "cell_type": "markdown",
      "source": [
        "![Снимок экрана 2025-03-18 085355.png](data:image/png;base64,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)\n"
      ],
      "metadata": {
        "id": "ar6ZLGZv0JhT"
      }
    },
    {
      "cell_type": "markdown",
      "source": [],
      "metadata": {
        "id": "5di0vi5e0Ilh"
      }
    },
    {
      "cell_type": "code",
      "source": [
        "a = int(input())\n",
        "b = int(input())\n",
        "t = (10 * a * a * (a - 3*b))/((a*a - 3 * a * b) * 15 * a * a * a * b)\n",
        "print (t)"
      ],
      "metadata": {
        "colab": {
          "base_uri": "https://localhost:8080/"
        },
        "id": "iS8IgKC60X39",
        "outputId": "14ca036f-2c42-4525-f929-b6f2c26bface"
      },
      "execution_count": null,
      "outputs": [
        {
          "output_type": "stream",
          "name": "stdout",
          "text": [
            "1\n",
            "2\n",
            "0.3333333333333333\n"
          ]
        }
      ]
    },
    {
      "cell_type": "markdown",
      "source": [
        "![Снимок экрана 2025-03-18 093544.png](data:image/png;base64,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)\n"
      ],
      "metadata": {
        "id": "G4JCauFv9zWR"
      }
    },
    {
      "cell_type": "code",
      "source": [
        "import math\n",
        "\n",
        "x = int(input())\n",
        "y = int(input())\n",
        "z = int(input())\n",
        "\n",
        "value = (y - math.sqrt(abs(x))) * (x - (y / (z + (x * x / 4))))\n",
        "v = abs(value)\n",
        "w = math.log(v)\n",
        "print(w)"
      ],
      "metadata": {
        "colab": {
          "base_uri": "https://localhost:8080/"
        },
        "id": "DVisulR4LYC6",
        "outputId": "98d5fffe-4ff1-4b06-f8e7-17da26bb6dfe"
      },
      "execution_count": null,
      "outputs": [
        {
          "output_type": "stream",
          "name": "stdout",
          "text": [
            "2\n",
            "1\n",
            "1\n",
            "0.6213203435596427\n",
            "-0.4759084789113784\n"
          ]
        }
      ]
    },
    {
      "cell_type": "markdown",
      "source": [
        "Треугольник задан величинами углов и радиусом описанной окружности. Найти стороны треугольника.\n"
      ],
      "metadata": {
        "id": "F1DmJXQbOwTM"
      }
    },
    {
      "cell_type": "code",
      "source": [
        "import math\n",
        "\n",
        "def calculate_triangle_sides(angle_a, angle_b, angle_c, radius):\n",
        "    angle_a_rad = math.radians(angle_a)\n",
        "    angle_b_rad = math.radians(angle_b)\n",
        "    angle_c_rad = math.radians(angle_c)\n",
        "    side_a = 2 * radius * math.sin(angle_a_rad)\n",
        "    side_b = 2 * radius * math.sin(angle_b_rad)\n",
        "    side_c = 2 * radius * math.sin(angle_c_rad)\n",
        "\n",
        "    return side_a, side_b, side_c\n",
        "\n",
        "angle_a = float(input(\"Введите угол A (в градусах): \"))\n",
        "angle_b = float(input(\"Введите угол B (в градусах): \"))\n",
        "angle_c = float(input(\"Введите угол C (в градусах): \"))\n",
        "radius = float(input(\"Введите радиус описанной окружности (R): \"))\n",
        "if angle_a + angle_b + angle_c != 180:\n",
        "    print(\"Ошибка: Сумма углов должна быть равна 180 градусам.\")\n",
        "else:\n",
        "    sides = calculate_triangle_sides(angle_a, angle_b, angle_c, radius)\n",
        "    print(f\"Стороны треугольника:\\nA = {sides[0]:.2f}\\nB = {sides[1]:.2f}\\nC = {sides[2]:.2f}\")"
      ],
      "metadata": {
        "colab": {
          "base_uri": "https://localhost:8080/"
        },
        "id": "i_38fm9tOxwL",
        "outputId": "a2d41730-5000-429e-ba15-60ed67cd790d"
      },
      "execution_count": null,
      "outputs": [
        {
          "output_type": "stream",
          "name": "stdout",
          "text": [
            "Введите угол A (в градусах): 120\n",
            "Введите угол B (в градусах): 30\n",
            "Введите угол C (в градусах): 30\n",
            "Введите радиус описанной окружности (R): 3\n",
            "Стороны треугольника:\n",
            "A = 5.20\n",
            "B = 3.00\n",
            "C = 3.00\n"
          ]
        }
      ]
    },
    {
      "cell_type": "markdown",
      "source": [],
      "metadata": {
        "id": "RHV-EFPKPyLg"
      }
    },
    {
      "cell_type": "markdown",
      "source": [
        "Дано целое число, большее 999. Используя одну операцию деления нацело и одну операцию взятия остатка от деления, найти цифру, соответствующую разряду тысяч в записи этого числа."
      ],
      "metadata": {
        "id": "VanjXC5YT6O_"
      }
    },
    {
      "cell_type": "code",
      "source": [
        "number = int(input(\"Введите целое число больше 999: \"))\n",
        "if number > 999:\n",
        "    thousands_digit = (number // 1000) % 10\n",
        "    print(\"Цифра в разряде тысяч:\", thousands_digit)\n",
        "else:\n",
        "    print(\"Число должно быть больше 999.\")"
      ],
      "metadata": {
        "colab": {
          "base_uri": "https://localhost:8080/"
        },
        "id": "eJol8viaT7kq",
        "outputId": "922fdae8-ae96-42ae-c708-8b03331f938f"
      },
      "execution_count": null,
      "outputs": [
        {
          "output_type": "stream",
          "name": "stdout",
          "text": [
            "Введите целое число больше 999: 1000\n",
            "Цифра в разряде тысяч: 1\n"
          ]
        }
      ]
    },
    {
      "cell_type": "markdown",
      "source": [
        "Даны три целых числа: A, B, C. Проверить истинность высказывания: «Справедливо двойное неравенство A < B < C».\n"
      ],
      "metadata": {
        "id": "elDNhUiQUJBZ"
      }
    },
    {
      "cell_type": "code",
      "source": [
        "A = int(input(\"Введите целое число A: \"))\n",
        "B = int(input(\"Введите целое число B: \"))\n",
        "C = int(input(\"Введите целое число C: \"))\n",
        "if A < B < C:\n",
        "    print(\"Справедливо: A < B < C\")\n",
        "else:\n",
        "    print(\"Несправедливо: A < B < C\")"
      ],
      "metadata": {
        "colab": {
          "base_uri": "https://localhost:8080/"
        },
        "id": "y9AtH3h2UJry",
        "outputId": "085b46d5-2cdb-47cd-8a7f-38ef1981d04a"
      },
      "execution_count": null,
      "outputs": [
        {
          "output_type": "stream",
          "name": "stdout",
          "text": [
            "Введите целое число A: 1\n",
            "Введите целое число B: 2\n",
            "Введите целое число C: 3\n",
            "Справедливо: A < B < C\n"
          ]
        }
      ]
    },
    {
      "cell_type": "markdown",
      "source": [
        "![Снимок экрана 2025-03-18 111920.png](data:image/png;base64,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)"
      ],
      "metadata": {
        "id": "cEXg_t7mVgvI"
      }
    },
    {
      "cell_type": "code",
      "source": [
        "x = float(input())\n",
        "if x>=-3.5:\n",
        "  f = 4 * x * x + 2 * x - 19\n",
        "else:\n",
        "  f = (-2 * x) / (-4 * x + 1)\n",
        "print(f)"
      ],
      "metadata": {
        "colab": {
          "base_uri": "https://localhost:8080/"
        },
        "id": "T1PPAR_qVjP-",
        "outputId": "c02b4dd2-4d7e-4e54-fed2-940913698e81"
      },
      "execution_count": null,
      "outputs": [
        {
          "output_type": "stream",
          "name": "stdout",
          "text": [
            "0\n",
            "-19.0\n"
          ]
        }
      ]
    },
    {
      "cell_type": "markdown",
      "source": [
        "Определить , является ли треугольник со сторонами a, b, c равносторонним."
      ],
      "metadata": {
        "id": "sw5TYBrYWDfh"
      }
    },
    {
      "cell_type": "code",
      "source": [
        "a = float(input())\n",
        "b = float(input())\n",
        "c = float(input())\n",
        "if (a == b == c):\n",
        "  print('Треугольник равносторонний')\n",
        "else:\n",
        "  print('Треугольник НЕ равносторонний :(')"
      ],
      "metadata": {
        "colab": {
          "base_uri": "https://localhost:8080/"
        },
        "id": "rcyHsX4LWEKt",
        "outputId": "5cc6b128-95e8-4d03-bfdb-b0e25f396bc2"
      },
      "execution_count": null,
      "outputs": [
        {
          "output_type": "stream",
          "name": "stdout",
          "text": [
            "1\n",
            "4\n",
            "4\n",
            "Треугольник НЕ равносторонний :(\n"
          ]
        }
      ]
    },
    {
      "cell_type": "markdown",
      "source": [
        "Заданы размеры А, В прямоугольного отверстия и размеры X, Y, Z кирпича. Определить пройдет ли кирпич через отверстие.\n"
      ],
      "metadata": {
        "id": "iuwUbO25Wcho"
      }
    },
    {
      "cell_type": "code",
      "source": [
        "print('Введите размеры отверстия')\n",
        "a = float(input())\n",
        "b = float(input())\n",
        "print('Введите размеры кирпича')\n",
        "x = float(input())\n",
        "y = float(input())\n",
        "z = float(input())\n",
        "if (x <= a and y <= b) or (x <= b and y <= a) or (x <= a and z <= b) or (x <= b and z <= a) or (y <= a and z <= b) or (y <= b and z <= a):\n",
        "  print ('Кирпич пролезет')\n",
        "else:\n",
        "  print('Кирпич НЕ пролезет')"
      ],
      "metadata": {
        "colab": {
          "base_uri": "https://localhost:8080/"
        },
        "id": "uY9kQFSGWjjj",
        "outputId": "c4c7955c-7245-42cb-d420-697ef845465d"
      },
      "execution_count": null,
      "outputs": [
        {
          "output_type": "stream",
          "name": "stdout",
          "text": [
            "Введите размеры отверстия\n",
            "2\n",
            "2\n",
            "Введите размеры кирпича\n",
            "2\n",
            "1\n",
            "2\n",
            "Кирпич пролезет\n"
          ]
        }
      ]
    },
    {
      "cell_type": "markdown",
      "source": [
        "Известны площади круга и равностороннего треугольника. Определить:\n",
        "а) уместится ли круг в треугольнике? б) уместится ли треугольник в круге?\n"
      ],
      "metadata": {
        "id": "2tMd_3QsYEjT"
      }
    },
    {
      "cell_type": "code",
      "source": [
        "import math\n",
        "S_circle = float(input(\"Введите площадь круга: \"))\n",
        "S_triangle = float(input(\"Введите площадь треугольника: \"))\n",
        "r = math.sqrt(S_circle / math.pi)\n",
        "a = math.sqrt((4 * S_triangle) / math.sqrt(3))\n",
        "r_in = a * math.sqrt(3) / 6\n",
        "r_out = a / math.sqrt(3)\n",
        "if r <= r_in:\n",
        "  print('Круг уместится в треугольнике')\n",
        "else:\n",
        "  print('Круг НЕ уместится в треугольнике')\n",
        "if r_out <= r:\n",
        "  print('Треугольник уместится в круге')\n",
        "else:\n",
        "  print('Треугольник НЕ уместится в круге')"
      ],
      "metadata": {
        "colab": {
          "base_uri": "https://localhost:8080/"
        },
        "id": "5ukYyZGhYH1S",
        "outputId": "3ffd9597-1a3b-4e37-8c22-2dfaa39c5c03"
      },
      "execution_count": null,
      "outputs": [
        {
          "output_type": "stream",
          "name": "stdout",
          "text": [
            "Введите площадь круга: 30\n",
            "Введите площадь треугольника: 5\n",
            "Круг НЕ уместится в треугольнике\n",
            "Треугольник уместится в круге\n"
          ]
        }
      ]
    },
    {
      "cell_type": "markdown",
      "source": [
        "Поле шахматной доски определяется парой натуральных чисел, каждое из которых не превосходит 8: первое число — номер вертикали (при счете слева направо), второе — номер горизонтали (при счете снизу вверх). Даны натуральные числа a, b, c, d, каждое из которых не превосходит 8.\n",
        "a) на поле (a, b) расположен король. Определить, может ли он одним ходомпопасть на поле (c, d);б) на поле (a, b) расположен ферзь. Определить, угрожает ли он полю (c, d);"
      ],
      "metadata": {
        "id": "gO8Nl1WmZshD"
      }
    },
    {
      "cell_type": "code",
      "source": [
        "def can_king_move(a, b, c, d):\n",
        "    return abs(a - c) <= 1 and abs(b - d) <= 1\n",
        "\n",
        "def does_queen_threaten(a, b, c, d):\n",
        "    return a == c or b == d or abs(a - c) == abs(b - d)\n",
        "\n",
        "# Ввод координат\n",
        "a = int(input(\"Введите координату a (вертикаль): \"))\n",
        "b = int(input(\"Введите координату b (горизонталь): \"))\n",
        "c = int(input(\"Введите координату c (вертикаль): \"))\n",
        "d = int(input(\"Введите координату d (горизонталь): \"))\n",
        "\n",
        "# Проверка для короля\n",
        "if can_king_move(a, b, c, d):\n",
        "    print(\"Король может одним ходом попасть на поле ({}, {}).\".format(c, d))\n",
        "else:\n",
        "    print(\"Король не может одним ходом попасть на поле ({}, {}).\".format(c, d))\n",
        "\n",
        "# Проверка для ферзя\n",
        "if does_queen_threaten(a, b, c, d):\n",
        "    print(\"Ферзь угрожает полю ({}, {}).\".format(c, d))\n",
        "else:\n",
        "    print(\"Ферзь не угрожает полю ({}, {}).\".format(c, d))\n"
      ],
      "metadata": {
        "id": "FXBW6u9DZtsq",
        "colab": {
          "base_uri": "https://localhost:8080/"
        },
        "outputId": "3b4ed385-256f-4a56-b8a7-d7d6e832d023"
      },
      "execution_count": 1,
      "outputs": [
        {
          "output_type": "stream",
          "name": "stdout",
          "text": [
            "Введите координату a (вертикаль): 1\n",
            "Введите координату b (горизонталь): 1\n",
            "Введите координату c (вертикаль): 1\n",
            "Введите координату d (горизонталь): 1\n",
            "Король может одним ходом попасть на поле (1, 1).\n",
            "Ферзь угрожает полю (1, 1).\n"
          ]
        }
      ]
    },
    {
      "cell_type": "markdown",
      "source": [
        "1)\tИмеется серия измерений элементов треугольника. Группы элементов пронумерованы. В серии в произвольном порядке могут встречаться такие группы элементов треугольника:\n",
        "✔\tоснование и высота;\n",
        "✔\tдве стороны и угол между ними (угол задан в радианах);\n",
        "✔\tтри стороны.\n",
        "Составить программу, которая запрашивает номер группы элементов, вводит соответствующие элементы и вычисляет площадь треугольника. Вычисления прекратить, если в качестве номера группы введен 0."
      ],
      "metadata": {
        "id": "YT0B_1OT9_2W"
      }
    },
    {
      "cell_type": "code",
      "source": [
        "import math\n",
        "\n",
        "def area_by_base_and_height(base, height):\n",
        "    return 0.5 * base * height\n",
        "\n",
        "def area_by_two_sides_and_angle(side1, side2, angle):\n",
        "    return 0.5 * side1 * side2 * math.sin(angle)\n",
        "\n",
        "def area_by_three_sides(side1, side2, side3):\n",
        "    s = (side1 + side2 + side3) / 2\n",
        "    return math.sqrt(s * (s - side1) * (s - side2) * (s - side3))\n",
        "\n",
        "def main():\n",
        "    while True:\n",
        "        group_number = int(input(\"Введите номер группы элементов (1 - основание и высота, 2 - две стороны и угол, 3 - три стороны, 0 - выход): \"))\n",
        "\n",
        "        if group_number == 0:\n",
        "            break\n",
        "\n",
        "        if group_number == 1:\n",
        "            base = float(input(\"Введите основание: \"))\n",
        "            height = float(input(\"Введите высоту: \"))\n",
        "            area = area_by_base_and_height(base, height)\n",
        "            print(f\"Площадь треугольника: {area:.2f}\")\n",
        "\n",
        "        elif group_number == 2:\n",
        "            side1 = float(input(\"Введите первую сторону: \"))\n",
        "            side2 = float(input(\"Введите вторую сторону: \"))\n",
        "            angle = float(input(\"Введите угол между сторонами (в радианах): \"))\n",
        "            area = area_by_two_sides_and_angle(side1, side2, angle)\n",
        "            print(f\"Площадь треугольника: {area:.2f}\")\n",
        "\n",
        "        elif group_number == 3:\n",
        "            side1 = float(input(\"Введите первую сторону: \"))\n",
        "            side2 = float(input(\"Введите вторую сторону: \"))\n",
        "            side3 = float(input(\"Введите третью сторону: \"))\n",
        "            area = area_by_three_sides(side1, side2, side3)\n",
        "            print(f\"Площадь треугольника: {area:.2f}\")\n",
        "\n",
        "        else:\n",
        "            print(\"Неверный номер группы. Пожалуйста, попробуйте снова.\")\n",
        "\n",
        "if __name__ == \"__main__\":\n",
        "    main()\n"
      ],
      "metadata": {
        "colab": {
          "base_uri": "https://localhost:8080/"
        },
        "id": "ewXS7nG6-C6a",
        "outputId": "978f861d-e7d0-4ea2-b5c7-9394884577ea"
      },
      "execution_count": 2,
      "outputs": [
        {
          "name": "stdout",
          "output_type": "stream",
          "text": [
            "Введите номер группы элементов (1 - основание и высота, 2 - две стороны и угол, 3 - три стороны, 0 - выход): 3\n",
            "Введите первую сторону: 1\n",
            "Введите вторую сторону: 1\n",
            "Введите третью сторону: 1\n",
            "Площадь треугольника: 0.43\n",
            "Введите номер группы элементов (1 - основание и высота, 2 - две стороны и угол, 3 - три стороны, 0 - выход): 0\n"
          ]
        }
      ]
    },
    {
      "cell_type": "markdown",
      "source": [
        "1)\tДано натуральное число N. Вычислить:\n",
        "\n",
        "![image.png](data:image/png;base64,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)"
      ],
      "metadata": {
        "id": "ZOSwfKnU-VOe"
      }
    },
    {
      "cell_type": "code",
      "source": [
        "def compute_series(n):\n",
        "    S = 0\n",
        "    for i in range(n + 1):\n",
        "        S += (-1) ** i * (1 / (2 ** i))\n",
        "    return S\n",
        "\n",
        "n = int(input(\"Введите натуральное число n: \"))\n",
        "if n > 0:\n",
        "    result = compute_series(n)\n",
        "    print(f\"S = {result}\")\n",
        "else:\n",
        "    print(\"Пожалуйста, введите натуральное число больше 0.\")\n"
      ],
      "metadata": {
        "colab": {
          "base_uri": "https://localhost:8080/"
        },
        "id": "6rG0G0z5-ZBa",
        "outputId": "62b30a8a-3d5b-4b94-9972-b0040d740c3e"
      },
      "execution_count": 3,
      "outputs": [
        {
          "output_type": "stream",
          "name": "stdout",
          "text": [
            "Введите натуральное число n: 1\n",
            "S = 0.5\n"
          ]
        }
      ]
    },
    {
      "cell_type": "markdown",
      "source": [
        "Найти сумму ряда с точностью ε=0,001, общий член которого:\n",
        "\n",
        "![image.png](data:image/png;base64,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)"
      ],
      "metadata": {
        "id": "vkyarb6-_M2m"
      }
    },
    {
      "cell_type": "code",
      "source": [
        "def calculate_series_sum(precision=0.001):\n",
        "    total_sum = 0.0\n",
        "    n = 1\n",
        "    term = 1\n",
        "\n",
        "    while abs(term) >= precision:\n",
        "        term = (-1) ** (n - 1) / (n ** n)\n",
        "        total_sum += term\n",
        "        n += 1\n",
        "\n",
        "    return total_sum\n",
        "n = int(input(\"Введите натуральное число n: \"))\n",
        "result = calculate_series_sum()\n",
        "print(f\"Сумма ряда с заданной точностью: {result:.3f}\")\n"
      ],
      "metadata": {
        "colab": {
          "base_uri": "https://localhost:8080/"
        },
        "id": "fP2zEquS_geN",
        "outputId": "c632ea53-5201-4a94-d07d-247bec25a37c"
      },
      "execution_count": 7,
      "outputs": [
        {
          "output_type": "stream",
          "name": "stdout",
          "text": [
            "Введите натуральное число n: 2\n",
            "Сумма ряда с заданной точностью: 0.783\n"
          ]
        }
      ]
    },
    {
      "cell_type": "markdown",
      "source": [
        "Написать процедуру (функцию), которая находит и выводит на печать все четырехзначные числа вида abcd, для которых выполняется: а) а, b, с, d — разные цифры; б) ab - cd = а + b + с + d"
      ],
      "metadata": {
        "id": "TRk_nuJdBNXj"
      }
    },
    {
      "cell_type": "code",
      "source": [
        "def find_four_digit_numbers():\n",
        "    results = []\n",
        "    for a in range(1, 10):  # a не может быть 0\n",
        "        for b in range(10):\n",
        "            if b == a:\n",
        "                continue\n",
        "            for c in range(10):\n",
        "                if c == a or c == b:\n",
        "                    continue\n",
        "                for d in range(10):\n",
        "                    if d == a or d == b or d == c:\n",
        "                        continue\n",
        "                    ab = 10 * a + b\n",
        "                    cd = 10 * c + d\n",
        "                    if ab - cd == a + b + c + d:\n",
        "                        results.append(f\"{a}{b}{c}{d}\")\n",
        "\n",
        "    return results\n",
        "\n",
        "four_digit_numbers = find_four_digit_numbers()\n",
        "for number in four_digit_numbers:\n",
        "    print(number)\n"
      ],
      "metadata": {
        "colab": {
          "base_uri": "https://localhost:8080/"
        },
        "id": "3DBlJq-gBVaF",
        "outputId": "d40fa802-c9c2-449a-ada1-ed4856ceaa29"
      },
      "execution_count": 8,
      "outputs": [
        {
          "output_type": "stream",
          "name": "stdout",
          "text": [
            "2109\n",
            "2309\n",
            "2409\n",
            "2509\n",
            "2609\n",
            "2709\n",
            "2809\n",
            "3018\n",
            "3218\n",
            "3418\n",
            "3518\n",
            "3618\n",
            "3718\n",
            "3918\n",
            "4027\n",
            "4127\n",
            "4327\n",
            "4527\n",
            "4627\n",
            "4827\n",
            "4927\n",
            "5036\n",
            "5136\n",
            "5236\n",
            "5436\n",
            "5736\n",
            "5836\n",
            "5936\n",
            "6045\n",
            "6145\n",
            "6245\n",
            "6345\n",
            "6745\n",
            "6845\n",
            "6945\n",
            "7054\n",
            "7154\n",
            "7254\n",
            "7354\n",
            "7654\n",
            "7854\n",
            "7954\n",
            "8063\n",
            "8163\n",
            "8263\n",
            "8463\n",
            "8563\n",
            "8763\n",
            "8963\n",
            "9072\n",
            "9172\n",
            "9372\n",
            "9472\n",
            "9572\n",
            "9672\n",
            "9872\n"
          ]
        }
      ]
    },
    {
      "cell_type": "markdown",
      "source": [
        "Даны две дроби A/B и C/D. (А, В, С, D - натуральные числа). Составить функцию деления дроби на дробь. Ответ должен быть несократимой дробью."
      ],
      "metadata": {
        "id": "kLnteQvsBcXl"
      }
    },
    {
      "cell_type": "code",
      "source": [
        "from math import gcd\n",
        "\n",
        "def divide_fractions(A, B, C, D):\n",
        "    if B == 0 or D == 0:\n",
        "        raise ValueError(\"Знаменатель не может быть равен нулю.\")\n",
        "    numerator = A * D\n",
        "    denominator = B * C\n",
        "    common_divisor = gcd(numerator, denominator)\n",
        "    numerator //= common_divisor\n",
        "    denominator //= common_divisor\n",
        "\n",
        "    return numerator, denominator\n",
        "A = int(input(\"Введите A: \"))\n",
        "B = int(input(\"Введите B: \"))\n",
        "C = int(input(\"Введите C: \"))\n",
        "D = int(input(\"Введите D: \"))\n",
        "\n",
        "result_numerator, result_denominator = divide_fractions(A, B, C, D)\n",
        "print(f\"Результат деления дроби {A}/{B} на дробь {C}/{D} в несократимой форме: {result_numerator}/{result_denominator}\")\n"
      ],
      "metadata": {
        "colab": {
          "base_uri": "https://localhost:8080/"
        },
        "id": "Bu5Ob7wpB6z9",
        "outputId": "711a6b14-ce47-48ba-f2f8-617831d25a39"
      },
      "execution_count": 9,
      "outputs": [
        {
          "output_type": "stream",
          "name": "stdout",
          "text": [
            "Введите A: 2\n",
            "Введите B: 1\n",
            "Введите C: 3\n",
            "Введите D: 4\n",
            "Результат деления дроби 2/1 на дробь 3/4 в несократимой форме: 8/3\n"
          ]
        }
      ]
    },
    {
      "cell_type": "markdown",
      "source": [
        "Составить программу вычисления суммы:\n",
        "1! +2! + З! + … +n! (n ≤ 20).\n",
        "Примечание. Тип результата значения функции - LongInt.\n"
      ],
      "metadata": {
        "id": "rlB4iMSdCDwl"
      }
    },
    {
      "cell_type": "code",
      "source": [
        "def factorial_sum(n):\n",
        "    if n < 1 or n > 20:\n",
        "        raise ValueError(\"n должно быть натуральным числом и не превышать 20.\")\n",
        "\n",
        "    total_sum = 0\n",
        "    factorial = 1\n",
        "\n",
        "    for i in range(1, n + 1):\n",
        "        factorial *= i\n",
        "        total_sum += factorial\n",
        "\n",
        "    return total_sum\n",
        "\n",
        "n = int(input(\"Введите натуральное число n (n ≤ 20): \"))\n",
        "result = factorial_sum(n)\n",
        "print(f\"Сумма факториалов от 1 до {n} равна: {result}\")\n"
      ],
      "metadata": {
        "colab": {
          "base_uri": "https://localhost:8080/"
        },
        "id": "phBg8MhnCneT",
        "outputId": "4cd2e042-f6ef-4aac-c9a4-b4dcc5db4709"
      },
      "execution_count": 10,
      "outputs": [
        {
          "output_type": "stream",
          "name": "stdout",
          "text": [
            "Введите натуральное число n (n ≤ 20): 3\n",
            "Сумма факториалов от 1 до 3 равна: 9\n"
          ]
        }
      ]
    }
  ]
}