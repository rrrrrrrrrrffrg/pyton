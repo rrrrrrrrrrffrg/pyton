{
  "nbformat": 4,
  "nbformat_minor": 0,
  "metadata": {
    "colab": {
      "provenance": [],
      "authorship_tag": "ABX9TyPxXzoFQY+9BQDgkADPZD+m",
      "include_colab_link": true
    },
    "kernelspec": {
      "name": "python3",
      "display_name": "Python 3"
    },
    "language_info": {
      "name": "python"
    }
  },
  "cells": [
    {
      "cell_type": "markdown",
      "metadata": {
        "id": "view-in-github",
        "colab_type": "text"
      },
      "source": [
        "<a href=\"https://colab.research.google.com/github/rrrrrrrrrrffrg/pyton/blob/main/Untitled4.ipynb\" target=\"_parent\"><img src=\"https://colab.research.google.com/assets/colab-badge.svg\" alt=\"Open In Colab\"/></a>"
      ]
    },
    {
      "cell_type": "markdown",
      "source": [
        "Дана последовательность слов. Напечатать все слова последовательности, которые встречаются в ней по одному разу."
      ],
      "metadata": {
        "id": "6c6LGRdnT87K"
      }
    },
    {
      "cell_type": "code",
      "source": [
        "def unique_words(sequence):\n",
        "    words = sequence.split()\n",
        "    word_count = {}\n",
        "\n",
        "    for word in words:\n",
        "        word_count[word] = word_count.get(word, 0) + 1\n",
        "\n",
        "    unique = [word for word, count in word_count.items() if count == 1]\n",
        "\n",
        "    return unique\n",
        "\n",
        "# Пример использования\n",
        "sequence = \"apple banana apple orange grape banana\"\n",
        "print(unique_words(sequence))\n"
      ],
      "metadata": {
        "colab": {
          "base_uri": "https://localhost:8080/"
        },
        "id": "3K7NJpSuUIw2",
        "outputId": "021d1e06-3866-481f-81af-51a31f795eb9"
      },
      "execution_count": 1,
      "outputs": [
        {
          "output_type": "stream",
          "name": "stdout",
          "text": [
            "['orange', 'grape']\n"
          ]
        }
      ]
    },
    {
      "cell_type": "markdown",
      "source": [
        "Дана символьная строка. Подсчитать, сколько различных символов встречаются в ней. Вывести их на экран."
      ],
      "metadata": {
        "id": "uKC9QVm6U7st"
      }
    },
    {
      "cell_type": "code",
      "source": [
        "def unique_characters(string):\n",
        "    unique_chars = set(string)\n",
        "    return unique_chars, len(unique_chars)\n",
        "\n",
        "# Пример использования\n",
        "string = \"hello world\"\n",
        "chars, count = unique_characters(string)\n",
        "print(f\"Уникальные символы: {chars}\")\n",
        "print(f\"Количество уникальных символов: {count}\")\n"
      ],
      "metadata": {
        "colab": {
          "base_uri": "https://localhost:8080/"
        },
        "id": "UUlfdFu-U8fM",
        "outputId": "2d70a972-772b-4a3f-ddfe-c05e433f5f4a"
      },
      "execution_count": 2,
      "outputs": [
        {
          "output_type": "stream",
          "name": "stdout",
          "text": [
            "Уникальные символы: {'l', 'd', 'e', 'h', 'w', ' ', 'r', 'o'}\n",
            "Количество уникальных символов: 8\n"
          ]
        }
      ]
    },
    {
      "cell_type": "markdown",
      "source": [
        "Составить программу преобразования натуральных чисел, записанных в римской нумерации, в десятичную систему счисления."
      ],
      "metadata": {
        "id": "LQXHMqTvWjMJ"
      }
    },
    {
      "cell_type": "code",
      "source": [
        "def roman_to_decimal(roman):\n",
        "    roman_numerals = {\n",
        "        'I': 1,\n",
        "        'V': 5,\n",
        "        'X': 10,\n",
        "        'L': 50,\n",
        "        'C': 100,\n",
        "        'D': 500,\n",
        "        'M': 1000\n",
        "    }\n",
        "\n",
        "    decimal_value = 0\n",
        "    prev_value = 0\n",
        "\n",
        "    for char in reversed(roman):\n",
        "        current_value = roman_numerals[char]\n",
        "        if current_value < prev_value:\n",
        "            decimal_value -= current_value\n",
        "        else:\n",
        "            decimal_value += current_value\n",
        "        prev_value = current_value\n",
        "\n",
        "    return decimal_value\n",
        "\n",
        "# Пример использования\n",
        "print('Введите римское число ')\n",
        "roman_number = str(input())\n",
        "print(f\"Римское число {roman_number} в десятичной системе: {roman_to_decimal(roman_number)}\")\n"
      ],
      "metadata": {
        "colab": {
          "base_uri": "https://localhost:8080/"
        },
        "id": "hucyxkp4Wj-9",
        "outputId": "7b98e803-33b3-469b-c72d-9d6d72259957"
      },
      "execution_count": 5,
      "outputs": [
        {
          "output_type": "stream",
          "name": "stdout",
          "text": [
            "Введите римское число \n",
            "DLXIV\n",
            "Римское число DLXIV в десятичной системе: 564\n"
          ]
        }
      ]
    },
    {
      "cell_type": "markdown",
      "source": [
        "Заполнить файл f натуральными числами, полученными с помощью генератора случайных чисел. Найти количество квадратов нечетных чисел среди компонент."
      ],
      "metadata": {
        "id": "3W-IR4QKXVK-"
      }
    },
    {
      "cell_type": "code",
      "source": [
        "import random\n",
        "\n",
        "def fill_file_with_random_numbers(filename, count):\n",
        "    with open(filename, 'w') as file:\n",
        "        for _ in range(count):\n",
        "            number = random.randint(1, 100)\n",
        "            file.write(f\"{number}\\n\")\n",
        "\n",
        "def count_odd_squares_in_file(filename):\n",
        "    odd_squares_count = 0\n",
        "    with open(filename, 'r') as file:\n",
        "        for line in file:\n",
        "            number = int(line.strip())\n",
        "            if number % 2 != 0:\n",
        "                sqrt = int(number ** 0.5)\n",
        "                if sqrt * sqrt == number:\n",
        "                    odd_squares_count += 1\n",
        "    return odd_squares_count\n",
        "\n",
        "filename = 'random_numbers.txt'\n",
        "fill_file_with_random_numbers(filename, 100)\n",
        "\n",
        "odd_squares_count = count_odd_squares_in_file(filename)\n",
        "print(f\"Количество квадратов нечетных чисел: {odd_squares_count}\")\n"
      ],
      "metadata": {
        "colab": {
          "base_uri": "https://localhost:8080/"
        },
        "id": "Yz465TyrXZqL",
        "outputId": "b7f898ec-9251-4b44-b40e-38ced489c337"
      },
      "execution_count": 7,
      "outputs": [
        {
          "output_type": "stream",
          "name": "stdout",
          "text": [
            "Количество квадратов нечетных чисел: 8\n"
          ]
        }
      ]
    },
    {
      "cell_type": "markdown",
      "source": [
        "Дан файл Assort, содержащий сведения об игрушках: указывается название игрушки, ее стоимость в рублях и возрастные границы (например, игрушка может предназначаться для детей от двух до пяти лет). Получить название игрушек, цена которых не превышает 14 тыс. р. и которые подходят детям 5 лет."
      ],
      "metadata": {
        "id": "NXN-VqGeYtyu"
      }
    },
    {
      "cell_type": "code",
      "source": [
        "!pip install faker\n",
        "from faker import Faker\n",
        "import random\n",
        "import csv\n",
        "\n",
        "# Инициализация Faker\n",
        "fake = Faker()\n",
        "\n",
        "def generate_toy_data(filename, num_toys):\n",
        "    toy_names = [\n",
        "        \"Мягкая игрушка\", \"Конструктор\", \"Кукла\", \"Машинка\",\n",
        "        \"Набор для творчества\", \"Пазл\", \"Настольная игра\",\n",
        "        \"Робот\", \"Игрушечный меч\", \"Кубики\"\n",
        "    ]\n",
        "\n",
        "    age_ranges = [\n",
        "        \"0-2\", \"3-5\", \"6-8\", \"9-12\", \"13-16\"\n",
        "    ]\n",
        "\n",
        "    with open(filename, mode='w', newline='', encoding='utf-8') as file:\n",
        "        writer = csv.writer(file)\n",
        "        writer.writerow([\"Название игрушки\", \"Стоимость (руб.)\", \"Возрастные границы\"])\n",
        "\n",
        "        for _ in range(num_toys):\n",
        "            name = random.choice(toy_names)\n",
        "            price = random.randint(500, 15000)\n",
        "            age_range = random.choice(age_ranges)\n",
        "            writer.writerow([name, price, age_range])\n",
        "\n",
        "\n",
        "def generate_random_text():\n",
        "    return fake.text(max_nb_chars=random.randint(50, 200))\n",
        "\n",
        "def create_file(file_name, num_lines=10):\n",
        "    with open(file_name, 'w', encoding='utf-8') as file:\n",
        "        for _ in range(num_lines):\n",
        "            file.write(generate_random_text() + '\\n')\n",
        "\n",
        "\n",
        "def filter_toys(file_path):\n",
        "    suitable_toys = []\n",
        "\n",
        "    with open(file_path, 'r', encoding='utf-8') as file:\n",
        "        next(file)\n",
        "        for line in file:\n",
        "            name, price_str, age_range = line.strip().split(',')\n",
        "            price = int(price_str)\n",
        "            if price <= 14000 and '5' in age_range.split():\n",
        "                suitable_toys.append(name)\n",
        "\n",
        "    return suitable_toys\n",
        "\n",
        "\n",
        "if __name__ == \"__main__\":\n",
        "    file_name = \"Assort.csv\"\n",
        "    num_toys = 10\n",
        "\n",
        "    generate_toy_data(file_name, num_toys)\n",
        "    print(f\"Файл '{file_name}' успешно создан с {num_toys} игрушками.\")\n",
        "\n",
        "    toys = filter_toys(file_name)\n",
        "\n",
        "    print(\"Игрушки, цена которых не превышает 14 тыс. р. и которые подходят детям 5 лет:\")\n",
        "    for toy in toys:\n",
        "        print(toy)\n"
      ],
      "metadata": {
        "colab": {
          "base_uri": "https://localhost:8080/"
        },
        "collapsed": true,
        "id": "PFts1Oe4YuYu",
        "outputId": "93afb18e-7f02-4054-d26b-da5aa04168a7"
      },
      "execution_count": 13,
      "outputs": [
        {
          "output_type": "stream",
          "name": "stdout",
          "text": [
            "Requirement already satisfied: faker in /usr/local/lib/python3.11/dist-packages (37.1.0)\n",
            "Requirement already satisfied: tzdata in /usr/local/lib/python3.11/dist-packages (from faker) (2025.2)\n",
            "Файл 'Assort.csv' успешно создан с 10 игрушками.\n",
            "Игрушки, цена которых не превышает 14 тыс. р. и которые подходят детям 5 лет:\n"
          ]
        }
      ]
    },
    {
      "cell_type": "markdown",
      "source": [
        "Дан файл, содержащий текст на русском языке. Выбрать из него только те символы, которые встречаются в нем только один раз, в том порядке, в котором они встречаются в тексте.\n"
      ],
      "metadata": {
        "id": "t5iTMIqSZcCT"
      }
    },
    {
      "cell_type": "code",
      "source": [
        "def unique_characters(file_path):\n",
        "    with open(file_path, 'r', encoding='utf-8') as file:\n",
        "        text = file.read()\n",
        "    char_count = {}\n",
        "\n",
        "    for char in text:\n",
        "        if char in char_count:\n",
        "            char_count[char] += 1\n",
        "        else:\n",
        "            char_count[char] = 1\n",
        "    unique_chars = [char for char in text if char_count[char] == 1]\n",
        "    result = ''.join(unique_chars)\n",
        "\n",
        "    return result\n",
        "\n",
        "# Пример использования\n",
        "file_path = 'text.txt'  #файл\n",
        "unique_chars = unique_characters(file_path)\n",
        "print(\"Уникальные символы:\", unique_chars)\n"
      ],
      "metadata": {
        "id": "Sry7MaRtZfDH"
      },
      "execution_count": null,
      "outputs": []
    }
  ]
}